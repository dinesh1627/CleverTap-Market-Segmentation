{
 "cells": [
  {
   "cell_type": "code",
   "execution_count": 162,
   "metadata": {},
   "outputs": [],
   "source": [
    "from datetime import datetime, timedelta,date\n",
    "import pandas as pd\n",
    "%matplotlib inline\n",
    "from sklearn.metrics import classification_report,confusion_matrix\n",
    "import matplotlib.pyplot as plt\n",
    "import numpy as np\n",
    "import seaborn as sns\n",
    "\n",
    "from __future__ import division\n",
    "from sklearn.cluster import KMeans\n",
    "\n",
    "#do not show warnings\n",
    "import warnings\n",
    "warnings.filterwarnings(\"ignore\")\n",
    "\n",
    "# #import plotly for visualization\n",
    "# import plotly.plotly as py\n",
    "# import plotly.offline as pyoff\n",
    "# import plotly.graph_objs as go\n",
    "\n",
    "#import machine learning related libraries\n",
    "from sklearn.svm import SVC\n",
    "from sklearn.multioutput import MultiOutputClassifier\n",
    "from sklearn.ensemble import GradientBoostingClassifier\n",
    "from sklearn.tree import DecisionTreeClassifier\n",
    "from sklearn.neighbors import KNeighborsClassifier\n",
    "from sklearn.naive_bayes import GaussianNB\n",
    "from sklearn.ensemble import RandomForestClassifier\n",
    "from sklearn.linear_model import LogisticRegression\n",
    "# import xgboost as xgb\n",
    "from sklearn.model_selection import KFold, cross_val_score, train_test_split"
   ]
  },
  {
   "cell_type": "code",
   "execution_count": 163,
   "metadata": {},
   "outputs": [],
   "source": [
    "VideoStarted = pd.read_csv('../Capstone - 02/02_data/Data/VideoStarted.csv')\n",
    "VideoStarted['Date'] = pd.to_datetime(VideoStarted['Date'],format='%Y%m%d')"
   ]
  },
  {
   "cell_type": "code",
   "execution_count": 164,
   "metadata": {},
   "outputs": [],
   "source": [
    "tx_6m = VideoStarted[(VideoStarted['Date'] < date(2017,5,15)) & (VideoStarted['Date'] >= date(2017,1,1))].reset_index(drop=True)\n",
    "tx_next = VideoStarted[(VideoStarted['Date'] >= date(2017,5,15)) & (VideoStarted['Date'] < date(2017,6,15))].reset_index(drop=True)"
   ]
  },
  {
   "cell_type": "code",
   "execution_count": 165,
   "metadata": {},
   "outputs": [
    {
     "data": {
      "text/plain": [
       "True"
      ]
     },
     "execution_count": 165,
     "metadata": {},
     "output_type": "execute_result"
    }
   ],
   "source": [
    "(len(tx_6m) + len(tx_next)) == len(VideoStarted)"
   ]
  },
  {
   "cell_type": "code",
   "execution_count": 166,
   "metadata": {},
   "outputs": [
    {
     "name": "stdout",
     "output_type": "stream",
     "text": [
      "Users in tx_user DataFrame -  122041\n"
     ]
    }
   ],
   "source": [
    "tx_user = pd.DataFrame(tx_6m['UserId'].unique())\n",
    "tx_user.columns = ['UserId']\n",
    "print('Users in tx_user DataFrame - ',len(tx_user['UserId'].value_counts()))"
   ]
  },
  {
   "cell_type": "code",
   "execution_count": 167,
   "metadata": {},
   "outputs": [
    {
     "name": "stdout",
     "output_type": "stream",
     "text": [
      "Users in tx_user DataFrame -  122041\n"
     ]
    }
   ],
   "source": [
    "#create a dataframe with customer id and first purchase date in tx_next\n",
    "tx_next_first_purchase = tx_next.groupby('UserId')['Date'].min().reset_index()\n",
    "tx_next_first_purchase.columns = ['UserId','MinPurchaseDate']\n",
    "\n",
    "#create a dataframe with customer id and last purchase date in tx_6m\n",
    "tx_last_purchase = tx_6m.groupby('UserId')['Date'].max().reset_index()\n",
    "tx_last_purchase.columns = ['UserId','MaxPurchaseDate']\n",
    "\n",
    "#merge two dataframes\n",
    "tx_purchase_dates = pd.merge(tx_last_purchase,tx_next_first_purchase,on='UserId',how='left')\n",
    "\n",
    "#calculate the time difference in days:\n",
    "tx_purchase_dates['NextPurchaseDay'] = (tx_purchase_dates['MinPurchaseDate'] - tx_purchase_dates['MaxPurchaseDate']).dt.days\n",
    "\n",
    "#merge with tx_user \n",
    "tx_user = pd.merge(tx_user, tx_purchase_dates[['UserId','NextPurchaseDay']],left_on='UserId',right_on='UserId',how='left')\n",
    "\n",
    "print('Users in tx_user DataFrame - ',len(tx_user['UserId'].value_counts()))"
   ]
  },
  {
   "cell_type": "code",
   "execution_count": 168,
   "metadata": {},
   "outputs": [
    {
     "data": {
      "text/html": [
       "<div>\n",
       "<style scoped>\n",
       "    .dataframe tbody tr th:only-of-type {\n",
       "        vertical-align: middle;\n",
       "    }\n",
       "\n",
       "    .dataframe tbody tr th {\n",
       "        vertical-align: top;\n",
       "    }\n",
       "\n",
       "    .dataframe thead th {\n",
       "        text-align: right;\n",
       "    }\n",
       "</style>\n",
       "<table border=\"1\" class=\"dataframe\">\n",
       "  <thead>\n",
       "    <tr style=\"text-align: right;\">\n",
       "      <th></th>\n",
       "      <th>UserId</th>\n",
       "      <th>NextPurchaseDay</th>\n",
       "    </tr>\n",
       "  </thead>\n",
       "  <tbody>\n",
       "    <tr>\n",
       "      <th>0</th>\n",
       "      <td>0280dfdd112732a3ac12b12dc770b7af</td>\n",
       "      <td>NaN</td>\n",
       "    </tr>\n",
       "    <tr>\n",
       "      <th>1</th>\n",
       "      <td>435d41ae019cb8db785483793859c9a8</td>\n",
       "      <td>NaN</td>\n",
       "    </tr>\n",
       "    <tr>\n",
       "      <th>2</th>\n",
       "      <td>1faf0ce0b98e02e1568702f516f01a78</td>\n",
       "      <td>NaN</td>\n",
       "    </tr>\n",
       "    <tr>\n",
       "      <th>3</th>\n",
       "      <td>3ec691b9d2b5d53ef965fe59b1900b30</td>\n",
       "      <td>NaN</td>\n",
       "    </tr>\n",
       "    <tr>\n",
       "      <th>4</th>\n",
       "      <td>ff230d487a7139b65f33b54a4cbd2d9e</td>\n",
       "      <td>NaN</td>\n",
       "    </tr>\n",
       "    <tr>\n",
       "      <th>5</th>\n",
       "      <td>13d9f55e297d7d9c219fbe9085e1006c</td>\n",
       "      <td>NaN</td>\n",
       "    </tr>\n",
       "    <tr>\n",
       "      <th>6</th>\n",
       "      <td>ca601ff304bf0c0836f8a59f7751b8de</td>\n",
       "      <td>NaN</td>\n",
       "    </tr>\n",
       "    <tr>\n",
       "      <th>7</th>\n",
       "      <td>f717dc3f757dc18cc0c3f27ed3e94ef8</td>\n",
       "      <td>6.0</td>\n",
       "    </tr>\n",
       "    <tr>\n",
       "      <th>8</th>\n",
       "      <td>0d2717ba754737c78430788ed77a1db7</td>\n",
       "      <td>NaN</td>\n",
       "    </tr>\n",
       "    <tr>\n",
       "      <th>9</th>\n",
       "      <td>087c741c167a352d07822fcab58046e5</td>\n",
       "      <td>NaN</td>\n",
       "    </tr>\n",
       "  </tbody>\n",
       "</table>\n",
       "</div>"
      ],
      "text/plain": [
       "                             UserId  NextPurchaseDay\n",
       "0  0280dfdd112732a3ac12b12dc770b7af              NaN\n",
       "1  435d41ae019cb8db785483793859c9a8              NaN\n",
       "2  1faf0ce0b98e02e1568702f516f01a78              NaN\n",
       "3  3ec691b9d2b5d53ef965fe59b1900b30              NaN\n",
       "4  ff230d487a7139b65f33b54a4cbd2d9e              NaN\n",
       "5  13d9f55e297d7d9c219fbe9085e1006c              NaN\n",
       "6  ca601ff304bf0c0836f8a59f7751b8de              NaN\n",
       "7  f717dc3f757dc18cc0c3f27ed3e94ef8              6.0\n",
       "8  0d2717ba754737c78430788ed77a1db7              NaN\n",
       "9  087c741c167a352d07822fcab58046e5              NaN"
      ]
     },
     "execution_count": 168,
     "metadata": {},
     "output_type": "execute_result"
    }
   ],
   "source": [
    "\n",
    "tx_user.head(10)"
   ]
  },
  {
   "cell_type": "code",
   "execution_count": 169,
   "metadata": {},
   "outputs": [
    {
     "name": "stdout",
     "output_type": "stream",
     "text": [
      "Users in tx_user DataFrame -  122041\n"
     ]
    },
    {
     "data": {
      "text/html": [
       "<div>\n",
       "<style scoped>\n",
       "    .dataframe tbody tr th:only-of-type {\n",
       "        vertical-align: middle;\n",
       "    }\n",
       "\n",
       "    .dataframe tbody tr th {\n",
       "        vertical-align: top;\n",
       "    }\n",
       "\n",
       "    .dataframe thead th {\n",
       "        text-align: right;\n",
       "    }\n",
       "</style>\n",
       "<table border=\"1\" class=\"dataframe\">\n",
       "  <thead>\n",
       "    <tr style=\"text-align: right;\">\n",
       "      <th></th>\n",
       "      <th>UserId</th>\n",
       "      <th>NextPurchaseDay</th>\n",
       "      <th>Recency</th>\n",
       "    </tr>\n",
       "  </thead>\n",
       "  <tbody>\n",
       "    <tr>\n",
       "      <th>0</th>\n",
       "      <td>0280dfdd112732a3ac12b12dc770b7af</td>\n",
       "      <td>NaN</td>\n",
       "      <td>128</td>\n",
       "    </tr>\n",
       "    <tr>\n",
       "      <th>1</th>\n",
       "      <td>435d41ae019cb8db785483793859c9a8</td>\n",
       "      <td>NaN</td>\n",
       "      <td>128</td>\n",
       "    </tr>\n",
       "    <tr>\n",
       "      <th>2</th>\n",
       "      <td>1faf0ce0b98e02e1568702f516f01a78</td>\n",
       "      <td>NaN</td>\n",
       "      <td>118</td>\n",
       "    </tr>\n",
       "    <tr>\n",
       "      <th>3</th>\n",
       "      <td>3ec691b9d2b5d53ef965fe59b1900b30</td>\n",
       "      <td>NaN</td>\n",
       "      <td>128</td>\n",
       "    </tr>\n",
       "    <tr>\n",
       "      <th>4</th>\n",
       "      <td>ff230d487a7139b65f33b54a4cbd2d9e</td>\n",
       "      <td>NaN</td>\n",
       "      <td>113</td>\n",
       "    </tr>\n",
       "  </tbody>\n",
       "</table>\n",
       "</div>"
      ],
      "text/plain": [
       "                             UserId  NextPurchaseDay  Recency\n",
       "0  0280dfdd112732a3ac12b12dc770b7af              NaN      128\n",
       "1  435d41ae019cb8db785483793859c9a8              NaN      128\n",
       "2  1faf0ce0b98e02e1568702f516f01a78              NaN      118\n",
       "3  3ec691b9d2b5d53ef965fe59b1900b30              NaN      128\n",
       "4  ff230d487a7139b65f33b54a4cbd2d9e              NaN      113"
      ]
     },
     "execution_count": 169,
     "metadata": {},
     "output_type": "execute_result"
    }
   ],
   "source": [
    "#get max purchase date for Recency and create a dataframe\n",
    "tx_max_purchase = tx_6m.groupby('UserId')['Date'].max().reset_index()\n",
    "tx_max_purchase.columns = ['UserId','MaxPurchaseDate']\n",
    "\n",
    "#find the recency in days and add it to tx_user\n",
    "tx_max_purchase['Recency'] = (tx_max_purchase['MaxPurchaseDate'].max() - tx_max_purchase['MaxPurchaseDate']).dt.days\n",
    "tx_user = pd.merge(tx_user, tx_max_purchase[['UserId','Recency']], on='UserId')\n",
    "\n",
    "print('Users in tx_user DataFrame - ',len(tx_user['UserId'].value_counts()))\n",
    "\n",
    "tx_user.head()"
   ]
  },
  {
   "cell_type": "code",
   "execution_count": 170,
   "metadata": {},
   "outputs": [],
   "source": [
    "#clustering for Recency\n",
    "kmeans = KMeans(n_clusters=4)\n",
    "kmeans.fit(tx_user[['Recency']])\n",
    "tx_user['RecencyCluster'] = kmeans.predict(tx_user[['Recency']])"
   ]
  },
  {
   "cell_type": "code",
   "execution_count": 171,
   "metadata": {},
   "outputs": [],
   "source": [
    "#order cluster method\n",
    "def order_cluster(cluster_field_name, target_field_name,df,ascending):\n",
    "    new_cluster_field_name = 'new_' + cluster_field_name\n",
    "    df_new = df.groupby(cluster_field_name)[target_field_name].mean().reset_index()\n",
    "    df_new = df_new.sort_values(by=target_field_name,ascending=ascending).reset_index(drop=True)\n",
    "    df_new['index'] = df_new.index\n",
    "    df_final = pd.merge(df,df_new[[cluster_field_name,'index']], on=cluster_field_name)\n",
    "    df_final = df_final.drop([cluster_field_name],axis=1)\n",
    "    df_final = df_final.rename(columns={\"index\":cluster_field_name})\n",
    "    return df_final"
   ]
  },
  {
   "cell_type": "code",
   "execution_count": 172,
   "metadata": {},
   "outputs": [
    {
     "name": "stdout",
     "output_type": "stream",
     "text": [
      "Users in tx_user DataFrame -  122041\n"
     ]
    }
   ],
   "source": [
    "#order recency clusters\n",
    "tx_user = order_cluster('RecencyCluster', 'Recency',tx_user,False)\n",
    "print('Users in tx_user DataFrame - ',len(tx_user['UserId'].value_counts()))"
   ]
  },
  {
   "cell_type": "code",
   "execution_count": 173,
   "metadata": {},
   "outputs": [
    {
     "data": {
      "text/html": [
       "<div>\n",
       "<style scoped>\n",
       "    .dataframe tbody tr th:only-of-type {\n",
       "        vertical-align: middle;\n",
       "    }\n",
       "\n",
       "    .dataframe tbody tr th {\n",
       "        vertical-align: top;\n",
       "    }\n",
       "\n",
       "    .dataframe thead th {\n",
       "        text-align: right;\n",
       "    }\n",
       "</style>\n",
       "<table border=\"1\" class=\"dataframe\">\n",
       "  <thead>\n",
       "    <tr style=\"text-align: right;\">\n",
       "      <th></th>\n",
       "      <th>count</th>\n",
       "      <th>mean</th>\n",
       "      <th>std</th>\n",
       "      <th>min</th>\n",
       "      <th>25%</th>\n",
       "      <th>50%</th>\n",
       "      <th>75%</th>\n",
       "      <th>max</th>\n",
       "    </tr>\n",
       "    <tr>\n",
       "      <th>RecencyCluster</th>\n",
       "      <th></th>\n",
       "      <th></th>\n",
       "      <th></th>\n",
       "      <th></th>\n",
       "      <th></th>\n",
       "      <th></th>\n",
       "      <th></th>\n",
       "      <th></th>\n",
       "    </tr>\n",
       "  </thead>\n",
       "  <tbody>\n",
       "    <tr>\n",
       "      <th>0</th>\n",
       "      <td>26381.0</td>\n",
       "      <td>109.514385</td>\n",
       "      <td>10.831142</td>\n",
       "      <td>91.0</td>\n",
       "      <td>100.0</td>\n",
       "      <td>110.0</td>\n",
       "      <td>119.0</td>\n",
       "      <td>128.0</td>\n",
       "    </tr>\n",
       "    <tr>\n",
       "      <th>1</th>\n",
       "      <td>19451.0</td>\n",
       "      <td>71.129042</td>\n",
       "      <td>10.673293</td>\n",
       "      <td>54.0</td>\n",
       "      <td>62.0</td>\n",
       "      <td>70.0</td>\n",
       "      <td>80.0</td>\n",
       "      <td>90.0</td>\n",
       "    </tr>\n",
       "    <tr>\n",
       "      <th>2</th>\n",
       "      <td>29262.0</td>\n",
       "      <td>36.001094</td>\n",
       "      <td>8.721623</td>\n",
       "      <td>23.0</td>\n",
       "      <td>29.0</td>\n",
       "      <td>35.0</td>\n",
       "      <td>43.0</td>\n",
       "      <td>53.0</td>\n",
       "    </tr>\n",
       "    <tr>\n",
       "      <th>3</th>\n",
       "      <td>46947.0</td>\n",
       "      <td>9.354549</td>\n",
       "      <td>6.911971</td>\n",
       "      <td>0.0</td>\n",
       "      <td>3.0</td>\n",
       "      <td>8.0</td>\n",
       "      <td>15.0</td>\n",
       "      <td>22.0</td>\n",
       "    </tr>\n",
       "  </tbody>\n",
       "</table>\n",
       "</div>"
      ],
      "text/plain": [
       "                  count        mean        std   min    25%    50%    75%  \\\n",
       "RecencyCluster                                                              \n",
       "0               26381.0  109.514385  10.831142  91.0  100.0  110.0  119.0   \n",
       "1               19451.0   71.129042  10.673293  54.0   62.0   70.0   80.0   \n",
       "2               29262.0   36.001094   8.721623  23.0   29.0   35.0   43.0   \n",
       "3               46947.0    9.354549   6.911971   0.0    3.0    8.0   15.0   \n",
       "\n",
       "                  max  \n",
       "RecencyCluster         \n",
       "0               128.0  \n",
       "1                90.0  \n",
       "2                53.0  \n",
       "3                22.0  "
      ]
     },
     "execution_count": 173,
     "metadata": {},
     "output_type": "execute_result"
    }
   ],
   "source": [
    "#print cluster characteristics\n",
    "tx_user.groupby('RecencyCluster')['Recency'].describe()"
   ]
  },
  {
   "cell_type": "code",
   "execution_count": 174,
   "metadata": {},
   "outputs": [],
   "source": [
    "#get total purchases for frequency scores\n",
    "tx_frequency = tx_6m.groupby('UserId')['Date'].count().reset_index()\n",
    "tx_frequency.columns = ['UserId','Frequency']\n"
   ]
  },
  {
   "cell_type": "code",
   "execution_count": 175,
   "metadata": {},
   "outputs": [
    {
     "name": "stdout",
     "output_type": "stream",
     "text": [
      "Users in tx_user DataFrame -  122041\n"
     ]
    },
    {
     "data": {
      "text/html": [
       "<div>\n",
       "<style scoped>\n",
       "    .dataframe tbody tr th:only-of-type {\n",
       "        vertical-align: middle;\n",
       "    }\n",
       "\n",
       "    .dataframe tbody tr th {\n",
       "        vertical-align: top;\n",
       "    }\n",
       "\n",
       "    .dataframe thead th {\n",
       "        text-align: right;\n",
       "    }\n",
       "</style>\n",
       "<table border=\"1\" class=\"dataframe\">\n",
       "  <thead>\n",
       "    <tr style=\"text-align: right;\">\n",
       "      <th></th>\n",
       "      <th>UserId</th>\n",
       "      <th>NextPurchaseDay</th>\n",
       "      <th>Recency</th>\n",
       "      <th>RecencyCluster</th>\n",
       "      <th>Frequency</th>\n",
       "    </tr>\n",
       "  </thead>\n",
       "  <tbody>\n",
       "    <tr>\n",
       "      <th>0</th>\n",
       "      <td>0280dfdd112732a3ac12b12dc770b7af</td>\n",
       "      <td>NaN</td>\n",
       "      <td>128</td>\n",
       "      <td>0</td>\n",
       "      <td>1</td>\n",
       "    </tr>\n",
       "    <tr>\n",
       "      <th>1</th>\n",
       "      <td>435d41ae019cb8db785483793859c9a8</td>\n",
       "      <td>NaN</td>\n",
       "      <td>128</td>\n",
       "      <td>0</td>\n",
       "      <td>1</td>\n",
       "    </tr>\n",
       "    <tr>\n",
       "      <th>2</th>\n",
       "      <td>1faf0ce0b98e02e1568702f516f01a78</td>\n",
       "      <td>NaN</td>\n",
       "      <td>118</td>\n",
       "      <td>0</td>\n",
       "      <td>13</td>\n",
       "    </tr>\n",
       "    <tr>\n",
       "      <th>3</th>\n",
       "      <td>3ec691b9d2b5d53ef965fe59b1900b30</td>\n",
       "      <td>NaN</td>\n",
       "      <td>128</td>\n",
       "      <td>0</td>\n",
       "      <td>1</td>\n",
       "    </tr>\n",
       "    <tr>\n",
       "      <th>4</th>\n",
       "      <td>ff230d487a7139b65f33b54a4cbd2d9e</td>\n",
       "      <td>NaN</td>\n",
       "      <td>113</td>\n",
       "      <td>0</td>\n",
       "      <td>5</td>\n",
       "    </tr>\n",
       "  </tbody>\n",
       "</table>\n",
       "</div>"
      ],
      "text/plain": [
       "                             UserId  NextPurchaseDay  Recency  RecencyCluster  \\\n",
       "0  0280dfdd112732a3ac12b12dc770b7af              NaN      128               0   \n",
       "1  435d41ae019cb8db785483793859c9a8              NaN      128               0   \n",
       "2  1faf0ce0b98e02e1568702f516f01a78              NaN      118               0   \n",
       "3  3ec691b9d2b5d53ef965fe59b1900b30              NaN      128               0   \n",
       "4  ff230d487a7139b65f33b54a4cbd2d9e              NaN      113               0   \n",
       "\n",
       "   Frequency  \n",
       "0          1  \n",
       "1          1  \n",
       "2         13  \n",
       "3          1  \n",
       "4          5  "
      ]
     },
     "execution_count": 175,
     "metadata": {},
     "output_type": "execute_result"
    }
   ],
   "source": [
    "#add frequency column to tx_user\n",
    "tx_user = pd.merge(tx_user, tx_frequency, on='UserId')\n",
    "print('Users in tx_user DataFrame - ',len(tx_user['UserId'].value_counts()))\n",
    "tx_user.head()"
   ]
  },
  {
   "cell_type": "code",
   "execution_count": 176,
   "metadata": {},
   "outputs": [],
   "source": [
    "#clustering for frequency\n",
    "kmeans = KMeans(n_clusters=4)\n",
    "kmeans.fit(tx_user[['Frequency']])\n",
    "tx_user['FrequencyCluster'] = kmeans.predict(tx_user[['Frequency']])"
   ]
  },
  {
   "cell_type": "code",
   "execution_count": 177,
   "metadata": {},
   "outputs": [
    {
     "name": "stdout",
     "output_type": "stream",
     "text": [
      "Users in tx_user DataFrame -  122041\n"
     ]
    },
    {
     "data": {
      "text/html": [
       "<div>\n",
       "<style scoped>\n",
       "    .dataframe tbody tr th:only-of-type {\n",
       "        vertical-align: middle;\n",
       "    }\n",
       "\n",
       "    .dataframe tbody tr th {\n",
       "        vertical-align: top;\n",
       "    }\n",
       "\n",
       "    .dataframe thead th {\n",
       "        text-align: right;\n",
       "    }\n",
       "</style>\n",
       "<table border=\"1\" class=\"dataframe\">\n",
       "  <thead>\n",
       "    <tr style=\"text-align: right;\">\n",
       "      <th></th>\n",
       "      <th>count</th>\n",
       "      <th>mean</th>\n",
       "      <th>std</th>\n",
       "      <th>min</th>\n",
       "      <th>25%</th>\n",
       "      <th>50%</th>\n",
       "      <th>75%</th>\n",
       "      <th>max</th>\n",
       "    </tr>\n",
       "    <tr>\n",
       "      <th>FrequencyCluster</th>\n",
       "      <th></th>\n",
       "      <th></th>\n",
       "      <th></th>\n",
       "      <th></th>\n",
       "      <th></th>\n",
       "      <th></th>\n",
       "      <th></th>\n",
       "      <th></th>\n",
       "    </tr>\n",
       "  </thead>\n",
       "  <tbody>\n",
       "    <tr>\n",
       "      <th>0</th>\n",
       "      <td>108814.0</td>\n",
       "      <td>4.396355</td>\n",
       "      <td>4.155770</td>\n",
       "      <td>1.0</td>\n",
       "      <td>1.0</td>\n",
       "      <td>3.0</td>\n",
       "      <td>6.0</td>\n",
       "      <td>19.0</td>\n",
       "    </tr>\n",
       "    <tr>\n",
       "      <th>1</th>\n",
       "      <td>11743.0</td>\n",
       "      <td>34.551477</td>\n",
       "      <td>13.430704</td>\n",
       "      <td>20.0</td>\n",
       "      <td>24.0</td>\n",
       "      <td>30.0</td>\n",
       "      <td>42.0</td>\n",
       "      <td>75.0</td>\n",
       "    </tr>\n",
       "    <tr>\n",
       "      <th>2</th>\n",
       "      <td>1371.0</td>\n",
       "      <td>116.556528</td>\n",
       "      <td>41.234423</td>\n",
       "      <td>76.0</td>\n",
       "      <td>86.0</td>\n",
       "      <td>102.0</td>\n",
       "      <td>133.0</td>\n",
       "      <td>265.0</td>\n",
       "    </tr>\n",
       "    <tr>\n",
       "      <th>3</th>\n",
       "      <td>113.0</td>\n",
       "      <td>417.530973</td>\n",
       "      <td>166.438431</td>\n",
       "      <td>268.0</td>\n",
       "      <td>307.0</td>\n",
       "      <td>360.0</td>\n",
       "      <td>458.0</td>\n",
       "      <td>1044.0</td>\n",
       "    </tr>\n",
       "  </tbody>\n",
       "</table>\n",
       "</div>"
      ],
      "text/plain": [
       "                     count        mean         std    min    25%    50%  \\\n",
       "FrequencyCluster                                                          \n",
       "0                 108814.0    4.396355    4.155770    1.0    1.0    3.0   \n",
       "1                  11743.0   34.551477   13.430704   20.0   24.0   30.0   \n",
       "2                   1371.0  116.556528   41.234423   76.0   86.0  102.0   \n",
       "3                    113.0  417.530973  166.438431  268.0  307.0  360.0   \n",
       "\n",
       "                    75%     max  \n",
       "FrequencyCluster                 \n",
       "0                   6.0    19.0  \n",
       "1                  42.0    75.0  \n",
       "2                 133.0   265.0  \n",
       "3                 458.0  1044.0  "
      ]
     },
     "execution_count": 177,
     "metadata": {},
     "output_type": "execute_result"
    }
   ],
   "source": [
    "#order frequency clusters and show the characteristics\n",
    "tx_user = order_cluster('FrequencyCluster', 'Frequency',tx_user,True)\n",
    "print('Users in tx_user DataFrame - ',len(tx_user['UserId'].value_counts()))\n",
    "tx_user.groupby('FrequencyCluster')['Frequency'].describe()"
   ]
  },
  {
   "cell_type": "code",
   "execution_count": 178,
   "metadata": {},
   "outputs": [],
   "source": [
    "#building overall segmentation\n",
    "tx_user['OverallScore'] = tx_user['RecencyCluster'] + tx_user['FrequencyCluster']"
   ]
  },
  {
   "cell_type": "code",
   "execution_count": 179,
   "metadata": {},
   "outputs": [
    {
     "name": "stdout",
     "output_type": "stream",
     "text": [
      "Users in tx_user DataFrame -  122041\n"
     ]
    }
   ],
   "source": [
    "#assign segment names\n",
    "tx_user['Segment'] = 'Low-Value'\n",
    "tx_user.loc[tx_user['OverallScore']>2,'Segment'] = 'Mid-Value' \n",
    "tx_user.loc[tx_user['OverallScore']>4,'Segment'] = 'High-Value' \n",
    "\n",
    "print('Users in tx_user DataFrame - ',len(tx_user['UserId'].value_counts()))"
   ]
  },
  {
   "cell_type": "code",
   "execution_count": 180,
   "metadata": {},
   "outputs": [
    {
     "data": {
      "text/html": [
       "<div>\n",
       "<style scoped>\n",
       "    .dataframe tbody tr th:only-of-type {\n",
       "        vertical-align: middle;\n",
       "    }\n",
       "\n",
       "    .dataframe tbody tr th {\n",
       "        vertical-align: top;\n",
       "    }\n",
       "\n",
       "    .dataframe thead th {\n",
       "        text-align: right;\n",
       "    }\n",
       "</style>\n",
       "<table border=\"1\" class=\"dataframe\">\n",
       "  <thead>\n",
       "    <tr style=\"text-align: right;\">\n",
       "      <th></th>\n",
       "      <th>UserId</th>\n",
       "      <th>NextPurchaseDay</th>\n",
       "      <th>Recency</th>\n",
       "      <th>RecencyCluster</th>\n",
       "      <th>Frequency</th>\n",
       "      <th>FrequencyCluster</th>\n",
       "      <th>OverallScore</th>\n",
       "      <th>Segment</th>\n",
       "    </tr>\n",
       "  </thead>\n",
       "  <tbody>\n",
       "    <tr>\n",
       "      <th>120641</th>\n",
       "      <td>dc93d200565e5bf6e6fc55adb1c5ba06</td>\n",
       "      <td>11.0</td>\n",
       "      <td>10</td>\n",
       "      <td>3</td>\n",
       "      <td>199</td>\n",
       "      <td>2</td>\n",
       "      <td>5</td>\n",
       "      <td>High-Value</td>\n",
       "    </tr>\n",
       "    <tr>\n",
       "      <th>120642</th>\n",
       "      <td>e67250dc001f274e035196ae67a12fb1</td>\n",
       "      <td>2.0</td>\n",
       "      <td>0</td>\n",
       "      <td>3</td>\n",
       "      <td>109</td>\n",
       "      <td>2</td>\n",
       "      <td>5</td>\n",
       "      <td>High-Value</td>\n",
       "    </tr>\n",
       "    <tr>\n",
       "      <th>120643</th>\n",
       "      <td>3323c47255d8a281d07bc0c0577c0d9e</td>\n",
       "      <td>NaN</td>\n",
       "      <td>22</td>\n",
       "      <td>3</td>\n",
       "      <td>129</td>\n",
       "      <td>2</td>\n",
       "      <td>5</td>\n",
       "      <td>High-Value</td>\n",
       "    </tr>\n",
       "    <tr>\n",
       "      <th>120644</th>\n",
       "      <td>b23748a0e45729d9c8ccf1e8d4aa22ad</td>\n",
       "      <td>13.0</td>\n",
       "      <td>9</td>\n",
       "      <td>3</td>\n",
       "      <td>85</td>\n",
       "      <td>2</td>\n",
       "      <td>5</td>\n",
       "      <td>High-Value</td>\n",
       "    </tr>\n",
       "    <tr>\n",
       "      <th>120645</th>\n",
       "      <td>6caace48aee133cdbb5ce1c40221bb6c</td>\n",
       "      <td>14.0</td>\n",
       "      <td>9</td>\n",
       "      <td>3</td>\n",
       "      <td>82</td>\n",
       "      <td>2</td>\n",
       "      <td>5</td>\n",
       "      <td>High-Value</td>\n",
       "    </tr>\n",
       "  </tbody>\n",
       "</table>\n",
       "</div>"
      ],
      "text/plain": [
       "                                  UserId  NextPurchaseDay  Recency  \\\n",
       "120641  dc93d200565e5bf6e6fc55adb1c5ba06             11.0       10   \n",
       "120642  e67250dc001f274e035196ae67a12fb1              2.0        0   \n",
       "120643  3323c47255d8a281d07bc0c0577c0d9e              NaN       22   \n",
       "120644  b23748a0e45729d9c8ccf1e8d4aa22ad             13.0        9   \n",
       "120645  6caace48aee133cdbb5ce1c40221bb6c             14.0        9   \n",
       "\n",
       "        RecencyCluster  Frequency  FrequencyCluster  OverallScore     Segment  \n",
       "120641               3        199                 2             5  High-Value  \n",
       "120642               3        109                 2             5  High-Value  \n",
       "120643               3        129                 2             5  High-Value  \n",
       "120644               3         85                 2             5  High-Value  \n",
       "120645               3         82                 2             5  High-Value  "
      ]
     },
     "execution_count": 180,
     "metadata": {},
     "output_type": "execute_result"
    }
   ],
   "source": [
    "tx_user[tx_user['Segment']=='High-Value'].head()"
   ]
  },
  {
   "cell_type": "code",
   "execution_count": 181,
   "metadata": {},
   "outputs": [],
   "source": [
    "#create a dataframe with CustomerID and Invoice Date\n",
    "tx_day_order = tx_6m[['UserId','Date']]\n",
    "\n",
    "tx_day_order = tx_day_order.sort_values(['UserId','Date'])"
   ]
  },
  {
   "cell_type": "code",
   "execution_count": 182,
   "metadata": {},
   "outputs": [],
   "source": [
    "#drop duplicates\n",
    "tx_day_order = tx_day_order.drop_duplicates(subset=['UserId','Date'],keep='first')"
   ]
  },
  {
   "cell_type": "code",
   "execution_count": 183,
   "metadata": {},
   "outputs": [],
   "source": [
    "#shifting last 3 purchase dates\n",
    "tx_day_order['PrevInvoiceDate'] = tx_day_order.groupby('UserId')['Date'].shift(1)\n",
    "tx_day_order['T2InvoiceDate'] = tx_day_order.groupby('UserId')['Date'].shift(2)\n",
    "tx_day_order['T3InvoiceDate'] = tx_day_order.groupby('UserId')['Date'].shift(3)"
   ]
  },
  {
   "cell_type": "code",
   "execution_count": 184,
   "metadata": {},
   "outputs": [
    {
     "data": {
      "text/html": [
       "<div>\n",
       "<style scoped>\n",
       "    .dataframe tbody tr th:only-of-type {\n",
       "        vertical-align: middle;\n",
       "    }\n",
       "\n",
       "    .dataframe tbody tr th {\n",
       "        vertical-align: top;\n",
       "    }\n",
       "\n",
       "    .dataframe thead th {\n",
       "        text-align: right;\n",
       "    }\n",
       "</style>\n",
       "<table border=\"1\" class=\"dataframe\">\n",
       "  <thead>\n",
       "    <tr style=\"text-align: right;\">\n",
       "      <th></th>\n",
       "      <th>UserId</th>\n",
       "      <th>Date</th>\n",
       "      <th>PrevInvoiceDate</th>\n",
       "      <th>T2InvoiceDate</th>\n",
       "      <th>T3InvoiceDate</th>\n",
       "    </tr>\n",
       "  </thead>\n",
       "  <tbody>\n",
       "    <tr>\n",
       "      <th>207115</th>\n",
       "      <td>0000146e97c32d369268e5ba5f4b907c</td>\n",
       "      <td>2017-02-23</td>\n",
       "      <td>NaT</td>\n",
       "      <td>NaT</td>\n",
       "      <td>NaT</td>\n",
       "    </tr>\n",
       "    <tr>\n",
       "      <th>787101</th>\n",
       "      <td>00004010d92c2f13b824237bc323d58b</td>\n",
       "      <td>2017-04-30</td>\n",
       "      <td>NaT</td>\n",
       "      <td>NaT</td>\n",
       "      <td>NaT</td>\n",
       "    </tr>\n",
       "    <tr>\n",
       "      <th>314438</th>\n",
       "      <td>0000e560394fce891dcf80218793d181</td>\n",
       "      <td>2017-03-24</td>\n",
       "      <td>NaT</td>\n",
       "      <td>NaT</td>\n",
       "      <td>NaT</td>\n",
       "    </tr>\n",
       "    <tr>\n",
       "      <th>318718</th>\n",
       "      <td>0000e560394fce891dcf80218793d181</td>\n",
       "      <td>2017-03-25</td>\n",
       "      <td>2017-03-24</td>\n",
       "      <td>NaT</td>\n",
       "      <td>NaT</td>\n",
       "    </tr>\n",
       "    <tr>\n",
       "      <th>570836</th>\n",
       "      <td>00015c69cccd32bcd323227b7140d8a8</td>\n",
       "      <td>2017-04-19</td>\n",
       "      <td>NaT</td>\n",
       "      <td>NaT</td>\n",
       "      <td>NaT</td>\n",
       "    </tr>\n",
       "    <tr>\n",
       "      <th>584523</th>\n",
       "      <td>00015c69cccd32bcd323227b7140d8a8</td>\n",
       "      <td>2017-04-20</td>\n",
       "      <td>2017-04-19</td>\n",
       "      <td>NaT</td>\n",
       "      <td>NaT</td>\n",
       "    </tr>\n",
       "    <tr>\n",
       "      <th>702989</th>\n",
       "      <td>00015c69cccd32bcd323227b7140d8a8</td>\n",
       "      <td>2017-04-26</td>\n",
       "      <td>2017-04-20</td>\n",
       "      <td>2017-04-19</td>\n",
       "      <td>NaT</td>\n",
       "    </tr>\n",
       "    <tr>\n",
       "      <th>711398</th>\n",
       "      <td>00016f6ad820aa24940343f837799519</td>\n",
       "      <td>2017-04-26</td>\n",
       "      <td>NaT</td>\n",
       "      <td>NaT</td>\n",
       "      <td>NaT</td>\n",
       "    </tr>\n",
       "    <tr>\n",
       "      <th>745440</th>\n",
       "      <td>00016f6ad820aa24940343f837799519</td>\n",
       "      <td>2017-04-28</td>\n",
       "      <td>2017-04-26</td>\n",
       "      <td>NaT</td>\n",
       "      <td>NaT</td>\n",
       "    </tr>\n",
       "    <tr>\n",
       "      <th>767111</th>\n",
       "      <td>00016f6ad820aa24940343f837799519</td>\n",
       "      <td>2017-04-29</td>\n",
       "      <td>2017-04-28</td>\n",
       "      <td>2017-04-26</td>\n",
       "      <td>NaT</td>\n",
       "    </tr>\n",
       "  </tbody>\n",
       "</table>\n",
       "</div>"
      ],
      "text/plain": [
       "                                  UserId       Date PrevInvoiceDate  \\\n",
       "207115  0000146e97c32d369268e5ba5f4b907c 2017-02-23             NaT   \n",
       "787101  00004010d92c2f13b824237bc323d58b 2017-04-30             NaT   \n",
       "314438  0000e560394fce891dcf80218793d181 2017-03-24             NaT   \n",
       "318718  0000e560394fce891dcf80218793d181 2017-03-25      2017-03-24   \n",
       "570836  00015c69cccd32bcd323227b7140d8a8 2017-04-19             NaT   \n",
       "584523  00015c69cccd32bcd323227b7140d8a8 2017-04-20      2017-04-19   \n",
       "702989  00015c69cccd32bcd323227b7140d8a8 2017-04-26      2017-04-20   \n",
       "711398  00016f6ad820aa24940343f837799519 2017-04-26             NaT   \n",
       "745440  00016f6ad820aa24940343f837799519 2017-04-28      2017-04-26   \n",
       "767111  00016f6ad820aa24940343f837799519 2017-04-29      2017-04-28   \n",
       "\n",
       "       T2InvoiceDate T3InvoiceDate  \n",
       "207115           NaT           NaT  \n",
       "787101           NaT           NaT  \n",
       "314438           NaT           NaT  \n",
       "318718           NaT           NaT  \n",
       "570836           NaT           NaT  \n",
       "584523           NaT           NaT  \n",
       "702989    2017-04-19           NaT  \n",
       "711398           NaT           NaT  \n",
       "745440           NaT           NaT  \n",
       "767111    2017-04-26           NaT  "
      ]
     },
     "execution_count": 184,
     "metadata": {},
     "output_type": "execute_result"
    }
   ],
   "source": [
    "tx_day_order.head(10)"
   ]
  },
  {
   "cell_type": "code",
   "execution_count": 185,
   "metadata": {},
   "outputs": [],
   "source": [
    "tx_day_order['DayDiff'] = (tx_day_order['Date'] - tx_day_order['PrevInvoiceDate']).dt.days\n",
    "tx_day_order['DayDiff2'] = (tx_day_order['Date'] - tx_day_order['T2InvoiceDate']).dt.days\n",
    "tx_day_order['DayDiff3'] = (tx_day_order['Date'] - tx_day_order['T3InvoiceDate']).dt.days"
   ]
  },
  {
   "cell_type": "code",
   "execution_count": 186,
   "metadata": {},
   "outputs": [
    {
     "data": {
      "text/html": [
       "<div>\n",
       "<style scoped>\n",
       "    .dataframe tbody tr th:only-of-type {\n",
       "        vertical-align: middle;\n",
       "    }\n",
       "\n",
       "    .dataframe tbody tr th {\n",
       "        vertical-align: top;\n",
       "    }\n",
       "\n",
       "    .dataframe thead th {\n",
       "        text-align: right;\n",
       "    }\n",
       "</style>\n",
       "<table border=\"1\" class=\"dataframe\">\n",
       "  <thead>\n",
       "    <tr style=\"text-align: right;\">\n",
       "      <th></th>\n",
       "      <th>UserId</th>\n",
       "      <th>Date</th>\n",
       "      <th>PrevInvoiceDate</th>\n",
       "      <th>T2InvoiceDate</th>\n",
       "      <th>T3InvoiceDate</th>\n",
       "      <th>DayDiff</th>\n",
       "      <th>DayDiff2</th>\n",
       "      <th>DayDiff3</th>\n",
       "    </tr>\n",
       "  </thead>\n",
       "  <tbody>\n",
       "    <tr>\n",
       "      <th>207115</th>\n",
       "      <td>0000146e97c32d369268e5ba5f4b907c</td>\n",
       "      <td>2017-02-23</td>\n",
       "      <td>NaT</td>\n",
       "      <td>NaT</td>\n",
       "      <td>NaT</td>\n",
       "      <td>NaN</td>\n",
       "      <td>NaN</td>\n",
       "      <td>NaN</td>\n",
       "    </tr>\n",
       "    <tr>\n",
       "      <th>787101</th>\n",
       "      <td>00004010d92c2f13b824237bc323d58b</td>\n",
       "      <td>2017-04-30</td>\n",
       "      <td>NaT</td>\n",
       "      <td>NaT</td>\n",
       "      <td>NaT</td>\n",
       "      <td>NaN</td>\n",
       "      <td>NaN</td>\n",
       "      <td>NaN</td>\n",
       "    </tr>\n",
       "    <tr>\n",
       "      <th>314438</th>\n",
       "      <td>0000e560394fce891dcf80218793d181</td>\n",
       "      <td>2017-03-24</td>\n",
       "      <td>NaT</td>\n",
       "      <td>NaT</td>\n",
       "      <td>NaT</td>\n",
       "      <td>NaN</td>\n",
       "      <td>NaN</td>\n",
       "      <td>NaN</td>\n",
       "    </tr>\n",
       "    <tr>\n",
       "      <th>318718</th>\n",
       "      <td>0000e560394fce891dcf80218793d181</td>\n",
       "      <td>2017-03-25</td>\n",
       "      <td>2017-03-24</td>\n",
       "      <td>NaT</td>\n",
       "      <td>NaT</td>\n",
       "      <td>1.0</td>\n",
       "      <td>NaN</td>\n",
       "      <td>NaN</td>\n",
       "    </tr>\n",
       "    <tr>\n",
       "      <th>570836</th>\n",
       "      <td>00015c69cccd32bcd323227b7140d8a8</td>\n",
       "      <td>2017-04-19</td>\n",
       "      <td>NaT</td>\n",
       "      <td>NaT</td>\n",
       "      <td>NaT</td>\n",
       "      <td>NaN</td>\n",
       "      <td>NaN</td>\n",
       "      <td>NaN</td>\n",
       "    </tr>\n",
       "    <tr>\n",
       "      <th>584523</th>\n",
       "      <td>00015c69cccd32bcd323227b7140d8a8</td>\n",
       "      <td>2017-04-20</td>\n",
       "      <td>2017-04-19</td>\n",
       "      <td>NaT</td>\n",
       "      <td>NaT</td>\n",
       "      <td>1.0</td>\n",
       "      <td>NaN</td>\n",
       "      <td>NaN</td>\n",
       "    </tr>\n",
       "    <tr>\n",
       "      <th>702989</th>\n",
       "      <td>00015c69cccd32bcd323227b7140d8a8</td>\n",
       "      <td>2017-04-26</td>\n",
       "      <td>2017-04-20</td>\n",
       "      <td>2017-04-19</td>\n",
       "      <td>NaT</td>\n",
       "      <td>6.0</td>\n",
       "      <td>7.0</td>\n",
       "      <td>NaN</td>\n",
       "    </tr>\n",
       "    <tr>\n",
       "      <th>711398</th>\n",
       "      <td>00016f6ad820aa24940343f837799519</td>\n",
       "      <td>2017-04-26</td>\n",
       "      <td>NaT</td>\n",
       "      <td>NaT</td>\n",
       "      <td>NaT</td>\n",
       "      <td>NaN</td>\n",
       "      <td>NaN</td>\n",
       "      <td>NaN</td>\n",
       "    </tr>\n",
       "    <tr>\n",
       "      <th>745440</th>\n",
       "      <td>00016f6ad820aa24940343f837799519</td>\n",
       "      <td>2017-04-28</td>\n",
       "      <td>2017-04-26</td>\n",
       "      <td>NaT</td>\n",
       "      <td>NaT</td>\n",
       "      <td>2.0</td>\n",
       "      <td>NaN</td>\n",
       "      <td>NaN</td>\n",
       "    </tr>\n",
       "    <tr>\n",
       "      <th>767111</th>\n",
       "      <td>00016f6ad820aa24940343f837799519</td>\n",
       "      <td>2017-04-29</td>\n",
       "      <td>2017-04-28</td>\n",
       "      <td>2017-04-26</td>\n",
       "      <td>NaT</td>\n",
       "      <td>1.0</td>\n",
       "      <td>3.0</td>\n",
       "      <td>NaN</td>\n",
       "    </tr>\n",
       "  </tbody>\n",
       "</table>\n",
       "</div>"
      ],
      "text/plain": [
       "                                  UserId       Date PrevInvoiceDate  \\\n",
       "207115  0000146e97c32d369268e5ba5f4b907c 2017-02-23             NaT   \n",
       "787101  00004010d92c2f13b824237bc323d58b 2017-04-30             NaT   \n",
       "314438  0000e560394fce891dcf80218793d181 2017-03-24             NaT   \n",
       "318718  0000e560394fce891dcf80218793d181 2017-03-25      2017-03-24   \n",
       "570836  00015c69cccd32bcd323227b7140d8a8 2017-04-19             NaT   \n",
       "584523  00015c69cccd32bcd323227b7140d8a8 2017-04-20      2017-04-19   \n",
       "702989  00015c69cccd32bcd323227b7140d8a8 2017-04-26      2017-04-20   \n",
       "711398  00016f6ad820aa24940343f837799519 2017-04-26             NaT   \n",
       "745440  00016f6ad820aa24940343f837799519 2017-04-28      2017-04-26   \n",
       "767111  00016f6ad820aa24940343f837799519 2017-04-29      2017-04-28   \n",
       "\n",
       "       T2InvoiceDate T3InvoiceDate  DayDiff  DayDiff2  DayDiff3  \n",
       "207115           NaT           NaT      NaN       NaN       NaN  \n",
       "787101           NaT           NaT      NaN       NaN       NaN  \n",
       "314438           NaT           NaT      NaN       NaN       NaN  \n",
       "318718           NaT           NaT      1.0       NaN       NaN  \n",
       "570836           NaT           NaT      NaN       NaN       NaN  \n",
       "584523           NaT           NaT      1.0       NaN       NaN  \n",
       "702989    2017-04-19           NaT      6.0       7.0       NaN  \n",
       "711398           NaT           NaT      NaN       NaN       NaN  \n",
       "745440           NaT           NaT      2.0       NaN       NaN  \n",
       "767111    2017-04-26           NaT      1.0       3.0       NaN  "
      ]
     },
     "execution_count": 186,
     "metadata": {},
     "output_type": "execute_result"
    }
   ],
   "source": [
    "tx_day_order.head(10)"
   ]
  },
  {
   "cell_type": "code",
   "execution_count": 187,
   "metadata": {},
   "outputs": [],
   "source": [
    "tx_day_diff = tx_day_order.groupby('UserId').agg({'DayDiff': ['mean','std']}).reset_index()\n",
    "tx_day_diff.columns = ['UserId', 'DayDiffMean','DayDiffStd']"
   ]
  },
  {
   "cell_type": "code",
   "execution_count": 188,
   "metadata": {},
   "outputs": [],
   "source": [
    "tx_day_order_last = tx_day_order.drop_duplicates(subset=['UserId'],keep='last')"
   ]
  },
  {
   "cell_type": "code",
   "execution_count": 189,
   "metadata": {},
   "outputs": [],
   "source": [
    "tx_day_order_last = tx_day_order_last.dropna()\n",
    "tx_day_order_last = pd.merge(tx_day_order_last, tx_day_diff, on='UserId')"
   ]
  },
  {
   "cell_type": "code",
   "execution_count": 190,
   "metadata": {},
   "outputs": [
    {
     "name": "stdout",
     "output_type": "stream",
     "text": [
      "Users in tx_user DataFrame -  19548\n"
     ]
    }
   ],
   "source": [
    "tx_user = pd.merge(tx_user, tx_day_order_last[['UserId','DayDiff','DayDiff2','DayDiff3','DayDiffMean','DayDiffStd']], on='UserId')\n",
    "print('Users in tx_user DataFrame - ',len(tx_user['UserId'].value_counts()))"
   ]
  },
  {
   "cell_type": "code",
   "execution_count": 191,
   "metadata": {},
   "outputs": [
    {
     "data": {
      "text/html": [
       "<div>\n",
       "<style scoped>\n",
       "    .dataframe tbody tr th:only-of-type {\n",
       "        vertical-align: middle;\n",
       "    }\n",
       "\n",
       "    .dataframe tbody tr th {\n",
       "        vertical-align: top;\n",
       "    }\n",
       "\n",
       "    .dataframe thead th {\n",
       "        text-align: right;\n",
       "    }\n",
       "</style>\n",
       "<table border=\"1\" class=\"dataframe\">\n",
       "  <thead>\n",
       "    <tr style=\"text-align: right;\">\n",
       "      <th></th>\n",
       "      <th>UserId</th>\n",
       "      <th>NextPurchaseDay</th>\n",
       "      <th>Recency</th>\n",
       "      <th>RecencyCluster</th>\n",
       "      <th>Frequency</th>\n",
       "      <th>FrequencyCluster</th>\n",
       "      <th>OverallScore</th>\n",
       "      <th>Segment</th>\n",
       "      <th>DayDiff</th>\n",
       "      <th>DayDiff2</th>\n",
       "      <th>DayDiff3</th>\n",
       "      <th>DayDiffMean</th>\n",
       "      <th>DayDiffStd</th>\n",
       "    </tr>\n",
       "  </thead>\n",
       "  <tbody>\n",
       "    <tr>\n",
       "      <th>0</th>\n",
       "      <td>1faf0ce0b98e02e1568702f516f01a78</td>\n",
       "      <td>NaN</td>\n",
       "      <td>118</td>\n",
       "      <td>0</td>\n",
       "      <td>13</td>\n",
       "      <td>0</td>\n",
       "      <td>0</td>\n",
       "      <td>Low-Value</td>\n",
       "      <td>1.0</td>\n",
       "      <td>6.0</td>\n",
       "      <td>7.0</td>\n",
       "      <td>1.666667</td>\n",
       "      <td>1.632993</td>\n",
       "    </tr>\n",
       "    <tr>\n",
       "      <th>1</th>\n",
       "      <td>087c741c167a352d07822fcab58046e5</td>\n",
       "      <td>NaN</td>\n",
       "      <td>124</td>\n",
       "      <td>0</td>\n",
       "      <td>17</td>\n",
       "      <td>0</td>\n",
       "      <td>0</td>\n",
       "      <td>Low-Value</td>\n",
       "      <td>1.0</td>\n",
       "      <td>2.0</td>\n",
       "      <td>3.0</td>\n",
       "      <td>1.000000</td>\n",
       "      <td>0.000000</td>\n",
       "    </tr>\n",
       "    <tr>\n",
       "      <th>2</th>\n",
       "      <td>d474ce5957c78efaa070f8266791060c</td>\n",
       "      <td>NaN</td>\n",
       "      <td>101</td>\n",
       "      <td>0</td>\n",
       "      <td>9</td>\n",
       "      <td>0</td>\n",
       "      <td>0</td>\n",
       "      <td>Low-Value</td>\n",
       "      <td>9.0</td>\n",
       "      <td>14.0</td>\n",
       "      <td>19.0</td>\n",
       "      <td>4.500000</td>\n",
       "      <td>3.082207</td>\n",
       "    </tr>\n",
       "    <tr>\n",
       "      <th>3</th>\n",
       "      <td>6f1e17087d0349318105784ce0fb323a</td>\n",
       "      <td>NaN</td>\n",
       "      <td>104</td>\n",
       "      <td>0</td>\n",
       "      <td>17</td>\n",
       "      <td>0</td>\n",
       "      <td>0</td>\n",
       "      <td>Low-Value</td>\n",
       "      <td>7.0</td>\n",
       "      <td>8.0</td>\n",
       "      <td>12.0</td>\n",
       "      <td>4.000000</td>\n",
       "      <td>2.000000</td>\n",
       "    </tr>\n",
       "    <tr>\n",
       "      <th>4</th>\n",
       "      <td>e8df3764a62d0cb144f3095f56dcfebd</td>\n",
       "      <td>NaN</td>\n",
       "      <td>121</td>\n",
       "      <td>0</td>\n",
       "      <td>7</td>\n",
       "      <td>0</td>\n",
       "      <td>0</td>\n",
       "      <td>Low-Value</td>\n",
       "      <td>2.0</td>\n",
       "      <td>4.0</td>\n",
       "      <td>5.0</td>\n",
       "      <td>1.750000</td>\n",
       "      <td>0.500000</td>\n",
       "    </tr>\n",
       "  </tbody>\n",
       "</table>\n",
       "</div>"
      ],
      "text/plain": [
       "                             UserId  NextPurchaseDay  Recency  RecencyCluster  \\\n",
       "0  1faf0ce0b98e02e1568702f516f01a78              NaN      118               0   \n",
       "1  087c741c167a352d07822fcab58046e5              NaN      124               0   \n",
       "2  d474ce5957c78efaa070f8266791060c              NaN      101               0   \n",
       "3  6f1e17087d0349318105784ce0fb323a              NaN      104               0   \n",
       "4  e8df3764a62d0cb144f3095f56dcfebd              NaN      121               0   \n",
       "\n",
       "   Frequency  FrequencyCluster  OverallScore    Segment  DayDiff  DayDiff2  \\\n",
       "0         13                 0             0  Low-Value      1.0       6.0   \n",
       "1         17                 0             0  Low-Value      1.0       2.0   \n",
       "2          9                 0             0  Low-Value      9.0      14.0   \n",
       "3         17                 0             0  Low-Value      7.0       8.0   \n",
       "4          7                 0             0  Low-Value      2.0       4.0   \n",
       "\n",
       "   DayDiff3  DayDiffMean  DayDiffStd  \n",
       "0       7.0     1.666667    1.632993  \n",
       "1       3.0     1.000000    0.000000  \n",
       "2      19.0     4.500000    3.082207  \n",
       "3      12.0     4.000000    2.000000  \n",
       "4       5.0     1.750000    0.500000  "
      ]
     },
     "execution_count": 191,
     "metadata": {},
     "output_type": "execute_result"
    }
   ],
   "source": [
    "tx_user.head()"
   ]
  },
  {
   "cell_type": "code",
   "execution_count": 199,
   "metadata": {},
   "outputs": [
    {
     "name": "stdout",
     "output_type": "stream",
     "text": [
      "Users in tx_user DataFrame -  19548\n"
     ]
    }
   ],
   "source": [
    "#create tx_class as a copy of tx_user before applying get_dummies\n",
    "tx_class = tx_user.copy()\n",
    "tx_class.set_index('UserId',inplace=True)\n",
    "tx_class = pd.get_dummies(tx_class)\n",
    "tx_class.reset_index(inplace=True)\n",
    "print('Users in tx_user DataFrame - ',len(tx_user['UserId'].value_counts()))"
   ]
  },
  {
   "cell_type": "code",
   "execution_count": 200,
   "metadata": {},
   "outputs": [
    {
     "data": {
      "text/html": [
       "<div>\n",
       "<style scoped>\n",
       "    .dataframe tbody tr th:only-of-type {\n",
       "        vertical-align: middle;\n",
       "    }\n",
       "\n",
       "    .dataframe tbody tr th {\n",
       "        vertical-align: top;\n",
       "    }\n",
       "\n",
       "    .dataframe thead th {\n",
       "        text-align: right;\n",
       "    }\n",
       "</style>\n",
       "<table border=\"1\" class=\"dataframe\">\n",
       "  <thead>\n",
       "    <tr style=\"text-align: right;\">\n",
       "      <th></th>\n",
       "      <th>UserId</th>\n",
       "      <th>NextPurchaseDay</th>\n",
       "      <th>Recency</th>\n",
       "      <th>RecencyCluster</th>\n",
       "      <th>Frequency</th>\n",
       "      <th>FrequencyCluster</th>\n",
       "      <th>OverallScore</th>\n",
       "      <th>DayDiff</th>\n",
       "      <th>DayDiff2</th>\n",
       "      <th>DayDiff3</th>\n",
       "      <th>DayDiffMean</th>\n",
       "      <th>DayDiffStd</th>\n",
       "      <th>Segment_High-Value</th>\n",
       "      <th>Segment_Low-Value</th>\n",
       "      <th>Segment_Mid-Value</th>\n",
       "    </tr>\n",
       "  </thead>\n",
       "  <tbody>\n",
       "    <tr>\n",
       "      <th>0</th>\n",
       "      <td>1faf0ce0b98e02e1568702f516f01a78</td>\n",
       "      <td>NaN</td>\n",
       "      <td>118</td>\n",
       "      <td>0</td>\n",
       "      <td>13</td>\n",
       "      <td>0</td>\n",
       "      <td>0</td>\n",
       "      <td>1.0</td>\n",
       "      <td>6.0</td>\n",
       "      <td>7.0</td>\n",
       "      <td>1.666667</td>\n",
       "      <td>1.632993</td>\n",
       "      <td>0</td>\n",
       "      <td>1</td>\n",
       "      <td>0</td>\n",
       "    </tr>\n",
       "    <tr>\n",
       "      <th>1</th>\n",
       "      <td>087c741c167a352d07822fcab58046e5</td>\n",
       "      <td>NaN</td>\n",
       "      <td>124</td>\n",
       "      <td>0</td>\n",
       "      <td>17</td>\n",
       "      <td>0</td>\n",
       "      <td>0</td>\n",
       "      <td>1.0</td>\n",
       "      <td>2.0</td>\n",
       "      <td>3.0</td>\n",
       "      <td>1.000000</td>\n",
       "      <td>0.000000</td>\n",
       "      <td>0</td>\n",
       "      <td>1</td>\n",
       "      <td>0</td>\n",
       "    </tr>\n",
       "    <tr>\n",
       "      <th>2</th>\n",
       "      <td>d474ce5957c78efaa070f8266791060c</td>\n",
       "      <td>NaN</td>\n",
       "      <td>101</td>\n",
       "      <td>0</td>\n",
       "      <td>9</td>\n",
       "      <td>0</td>\n",
       "      <td>0</td>\n",
       "      <td>9.0</td>\n",
       "      <td>14.0</td>\n",
       "      <td>19.0</td>\n",
       "      <td>4.500000</td>\n",
       "      <td>3.082207</td>\n",
       "      <td>0</td>\n",
       "      <td>1</td>\n",
       "      <td>0</td>\n",
       "    </tr>\n",
       "    <tr>\n",
       "      <th>3</th>\n",
       "      <td>6f1e17087d0349318105784ce0fb323a</td>\n",
       "      <td>NaN</td>\n",
       "      <td>104</td>\n",
       "      <td>0</td>\n",
       "      <td>17</td>\n",
       "      <td>0</td>\n",
       "      <td>0</td>\n",
       "      <td>7.0</td>\n",
       "      <td>8.0</td>\n",
       "      <td>12.0</td>\n",
       "      <td>4.000000</td>\n",
       "      <td>2.000000</td>\n",
       "      <td>0</td>\n",
       "      <td>1</td>\n",
       "      <td>0</td>\n",
       "    </tr>\n",
       "    <tr>\n",
       "      <th>4</th>\n",
       "      <td>e8df3764a62d0cb144f3095f56dcfebd</td>\n",
       "      <td>NaN</td>\n",
       "      <td>121</td>\n",
       "      <td>0</td>\n",
       "      <td>7</td>\n",
       "      <td>0</td>\n",
       "      <td>0</td>\n",
       "      <td>2.0</td>\n",
       "      <td>4.0</td>\n",
       "      <td>5.0</td>\n",
       "      <td>1.750000</td>\n",
       "      <td>0.500000</td>\n",
       "      <td>0</td>\n",
       "      <td>1</td>\n",
       "      <td>0</td>\n",
       "    </tr>\n",
       "  </tbody>\n",
       "</table>\n",
       "</div>"
      ],
      "text/plain": [
       "                             UserId  NextPurchaseDay  Recency  RecencyCluster  \\\n",
       "0  1faf0ce0b98e02e1568702f516f01a78              NaN      118               0   \n",
       "1  087c741c167a352d07822fcab58046e5              NaN      124               0   \n",
       "2  d474ce5957c78efaa070f8266791060c              NaN      101               0   \n",
       "3  6f1e17087d0349318105784ce0fb323a              NaN      104               0   \n",
       "4  e8df3764a62d0cb144f3095f56dcfebd              NaN      121               0   \n",
       "\n",
       "   Frequency  FrequencyCluster  OverallScore  DayDiff  DayDiff2  DayDiff3  \\\n",
       "0         13                 0             0      1.0       6.0       7.0   \n",
       "1         17                 0             0      1.0       2.0       3.0   \n",
       "2          9                 0             0      9.0      14.0      19.0   \n",
       "3         17                 0             0      7.0       8.0      12.0   \n",
       "4          7                 0             0      2.0       4.0       5.0   \n",
       "\n",
       "   DayDiffMean  DayDiffStd  Segment_High-Value  Segment_Low-Value  \\\n",
       "0     1.666667    1.632993                   0                  1   \n",
       "1     1.000000    0.000000                   0                  1   \n",
       "2     4.500000    3.082207                   0                  1   \n",
       "3     4.000000    2.000000                   0                  1   \n",
       "4     1.750000    0.500000                   0                  1   \n",
       "\n",
       "   Segment_Mid-Value  \n",
       "0                  0  \n",
       "1                  0  \n",
       "2                  0  \n",
       "3                  0  \n",
       "4                  0  "
      ]
     },
     "execution_count": 200,
     "metadata": {},
     "output_type": "execute_result"
    }
   ],
   "source": [
    "tx_class.head()"
   ]
  },
  {
   "cell_type": "code",
   "execution_count": 201,
   "metadata": {},
   "outputs": [
    {
     "data": {
      "text/plain": [
       "count    6304.000000\n",
       "mean        9.059486\n",
       "std        11.951145\n",
       "min         1.000000\n",
       "25%         3.000000\n",
       "50%         6.000000\n",
       "75%        11.000000\n",
       "max       140.000000\n",
       "Name: NextPurchaseDay, dtype: float64"
      ]
     },
     "execution_count": 201,
     "metadata": {},
     "output_type": "execute_result"
    }
   ],
   "source": [
    "tx_user['NextPurchaseDay'].describe()"
   ]
  },
  {
   "cell_type": "code",
   "execution_count": 202,
   "metadata": {},
   "outputs": [
    {
     "data": {
      "text/plain": [
       "19548"
      ]
     },
     "execution_count": 202,
     "metadata": {},
     "output_type": "execute_result"
    }
   ],
   "source": [
    "len(tx_user)"
   ]
  },
  {
   "cell_type": "code",
   "execution_count": 203,
   "metadata": {},
   "outputs": [
    {
     "data": {
      "text/plain": [
       "56216"
      ]
     },
     "execution_count": 203,
     "metadata": {},
     "output_type": "execute_result"
    }
   ],
   "source": [
    "len(tx_next['UserId'].value_counts())"
   ]
  },
  {
   "cell_type": "code",
   "execution_count": 204,
   "metadata": {},
   "outputs": [
    {
     "data": {
      "text/plain": [
       "122041"
      ]
     },
     "execution_count": 204,
     "metadata": {},
     "output_type": "execute_result"
    }
   ],
   "source": [
    "len(tx_6m['UserId'].value_counts())"
   ]
  },
  {
   "cell_type": "code",
   "execution_count": 205,
   "metadata": {},
   "outputs": [],
   "source": [
    "'''5 Class Prediction'''\n",
    "\n",
    "# tx_class.loc[tx_class.NextPurchaseDay.isnull(),'NextPurchaseDayRange'] = 0\n",
    "# tx_class.loc[(tx_class.NextPurchaseDay<3) & (tx_class.NextPurchaseDay>=0),'NextPurchaseDayRange'] = 1\n",
    "# tx_class.loc[(tx_class.NextPurchaseDay<8) & (tx_class.NextPurchaseDay>=3),'NextPurchaseDayRange'] = 2\n",
    "# tx_class.loc[(tx_class.NextPurchaseDay>16) & (tx_class.NextPurchaseDay>=8),'NextPurchaseDayRange'] = 3\n",
    "# tx_class.loc[tx_class.NextPurchaseDay>15,'NextPurchaseDayRange'] = 4"
   ]
  },
  {
   "cell_type": "code",
   "execution_count": null,
   "metadata": {},
   "outputs": [],
   "source": [
    "'''4 Class Predictons '''\n",
    "\n",
    "tx_class.loc[tx_class.NextPurchaseDay.isnull(),'NextPurchaseDayRange'] = 0\n",
    "tx_class.loc[(tx_class.NextPurchaseDay<3) & (tx_class.NextPurchaseDay>=0),'NextPurchaseDayRange'] = 1\n",
    "tx_class.loc[(tx_class.NextPurchaseDay<8) & (tx_class.NextPurchaseDay>=3),'NextPurchaseDayRange'] = 2\n",
    "tx_class.loc[tx_class.NextPurchaseDay>7,'NextPurchaseDayRange'] = 3"
   ]
  },
  {
   "cell_type": "code",
   "execution_count": 206,
   "metadata": {},
   "outputs": [
    {
     "data": {
      "text/plain": [
       "0.0    13244\n",
       "2.0     2611\n",
       "1.0     1524\n",
       "3.0     1255\n",
       "4.0      914\n",
       "Name: NextPurchaseDayRange, dtype: int64"
      ]
     },
     "execution_count": 206,
     "metadata": {},
     "output_type": "execute_result"
    }
   ],
   "source": [
    "tx_class['NextPurchaseDayRange'].value_counts()"
   ]
  },
  {
   "cell_type": "code",
   "execution_count": 207,
   "metadata": {},
   "outputs": [
    {
     "data": {
      "text/plain": [
       "<matplotlib.axes._subplots.AxesSubplot at 0x1c926086518>"
      ]
     },
     "execution_count": 207,
     "metadata": {},
     "output_type": "execute_result"
    },
    {
     "data": {
      "image/png": "[encoded data removed]",
      "text/plain": [
       "<Figure size 2160x1440 with 2 Axes>"
      ]
     },
     "metadata": {
      "needs_background": "light"
     },
     "output_type": "display_data"
    }
   ],
   "source": [
    "corr = tx_class[tx_class.columns].corr()\n",
    "plt.figure(figsize = (30,20))\n",
    "sns.heatmap(corr, annot = True, linewidths=0.2, fmt=\".2f\")"
   ]
  },
  {
   "cell_type": "code",
   "execution_count": 208,
   "metadata": {},
   "outputs": [],
   "source": [
    "#train & test split\n",
    "tx_class = tx_class.drop(['NextPurchaseDay','UserId'],axis=1)\n",
    "X, y = tx_class.drop('NextPurchaseDayRange',axis=1), tx_class.NextPurchaseDayRange\n",
    "X_train, X_test, y_train, y_test = train_test_split(X, y, test_size=0.2, random_state=44)"
   ]
  },
  {
   "cell_type": "code",
   "execution_count": 209,
   "metadata": {},
   "outputs": [],
   "source": [
    "models = []\n",
    "models.append((\"LR\",LogisticRegression()))\n",
    "models.append((\"NB\",GaussianNB()))\n",
    "models.append((\"RF\",RandomForestClassifier()))\n",
    "# models.append((\"SVC\",SVC()))\n",
    "models.append((\"Dtree\",DecisionTreeClassifier()))\n",
    "# models.append((\"XGB\",xgb.XGBClassifier()))\n",
    "models.append((\"KNN\",KNeighborsClassifier()))"
   ]
  },
  {
   "cell_type": "code",
   "execution_count": 210,
   "metadata": {},
   "outputs": [
    {
     "name": "stdout",
     "output_type": "stream",
     "text": [
      "LR [0.75994373 0.75060749]\n",
      "NB [0.57449802 0.5788464 ]\n",
      "RF [0.73679499 0.73372554]\n",
      "Dtree [0.67566185 0.68397493]\n",
      "KNN [0.72988873 0.73231871]\n"
     ]
    }
   ],
   "source": [
    "#measure the accuracy \n",
    "for name,model in models:\n",
    "    kfold = KFold(n_splits=2, random_state=22)\n",
    "    cv_result = cross_val_score(model,X_train,y_train, cv = kfold,scoring = \"accuracy\")\n",
    "    print(name, cv_result)"
   ]
  },
  {
   "cell_type": "code",
   "execution_count": 215,
   "metadata": {},
   "outputs": [
    {
     "name": "stdout",
     "output_type": "stream",
     "text": [
      "[0.75994373 0.75060749]\n"
     ]
    }
   ],
   "source": [
    "LR = LogisticRegression()\n",
    "kfold = KFold(n_splits=2, random_state=22)\n",
    "cv_result = cross_val_score(LR,X_train,y_train, cv = kfold,scoring = \"accuracy\")\n",
    "print(cv_result)"
   ]
  },
  {
   "cell_type": "code",
   "execution_count": 221,
   "metadata": {},
   "outputs": [
    {
     "name": "stdout",
     "output_type": "stream",
     "text": [
      "Accuracy using RF with 10 cross validation : 75.62%\n"
     ]
    }
   ],
   "source": [
    "from sklearn import metrics\n",
    "from sklearn.metrics import f1_score\n",
    "LR.fit(X_train, y_train)    \n",
    "\n",
    "cv = np.mean(cross_val_score(LR, X_train, y_train, cv=10))\n",
    "print (\"Accuracy using RF with 10 cross validation : {}%\".format(round(cv*100,2)))\n",
    "y_predict_test = LR.predict(X_test)\n",
    "\n",
    "#F1_score\n",
    "\n",
    "score_test = metrics.f1_score(y_test, y_predict_test, \n",
    "                              pos_label=list(set(y_test)), average = None)\n"
   ]
  },
  {
   "cell_type": "code",
   "execution_count": 222,
   "metadata": {},
   "outputs": [
    {
     "data": {
      "text/plain": [
       "array([0.86843492, 0.66285714, 0.42636457, 0.        , 0.        ])"
      ]
     },
     "execution_count": 222,
     "metadata": {},
     "output_type": "execute_result"
    }
   ],
   "source": [
    "score_test"
   ]
  },
  {
   "cell_type": "code",
   "execution_count": 223,
   "metadata": {},
   "outputs": [
    {
     "name": "stderr",
     "output_type": "stream",
     "text": [
      "Using TensorFlow backend.\n"
     ]
    }
   ],
   "source": [
    "from imblearn.over_sampling import SMOTE \n",
    "sm = SMOTE(random_state = 2) \n",
    "X_train_res, y_train_res = sm.fit_sample(X_train, y_train.ravel()) "
   ]
  },
  {
   "cell_type": "code",
   "execution_count": 224,
   "metadata": {},
   "outputs": [
    {
     "name": "stdout",
     "output_type": "stream",
     "text": [
      "Accuracy using RF with 10 cross validation : 59.44%\n"
     ]
    }
   ],
   "source": [
    "LR.fit(X_train_res, y_train_res)    \n",
    "\n",
    "cv = np.mean(cross_val_score(LR, X_train_res, y_train_res, cv=10))\n",
    "print (\"Accuracy using RF with 10 cross validation : {}%\".format(round(cv*100,2)))\n",
    "y_predict_test = LR.predict(X_test)\n",
    "\n",
    "#F1_score\n",
    "\n",
    "score_test = metrics.f1_score(y_test, y_predict_test, \n",
    "                              pos_label=list(set(y_test)), average = None)\n"
   ]
  },
  {
   "cell_type": "code",
   "execution_count": 227,
   "metadata": {},
   "outputs": [
    {
     "name": "stdout",
     "output_type": "stream",
     "text": [
      "              precision    recall  f1-score   support\n",
      "\n",
      "         0.0       0.97      0.60      0.74      2616\n",
      "         1.0       0.53      0.83      0.65       300\n",
      "         2.0       0.49      0.52      0.50       538\n",
      "         3.0       0.22      0.42      0.29       266\n",
      "         4.0       0.11      0.44      0.18       190\n",
      "\n",
      "    accuracy                           0.59      3910\n",
      "   macro avg       0.46      0.56      0.47      3910\n",
      "weighted avg       0.78      0.59      0.64      3910\n",
      "\n"
     ]
    }
   ],
   "source": [
    "print(classification_report(y_test, y_predict_test)) "
   ]
  },
  {
   "cell_type": "code",
   "execution_count": null,
   "metadata": {},
   "outputs": [],
   "source": []
  }
 ],
 "metadata": {
  "kernelspec": {
   "display_name": "Python 3",
   "language": "python",
   "name": "python3"
  },
  "language_info": {
   "codemirror_mode": {
    "name": "ipython",
    "version": 3
   },
   "file_extension": ".py",
   "mimetype": "text/x-python",
   "name": "python",
   "nbconvert_exporter": "python",
   "pygments_lexer": "ipython3",
   "version": "3.7.0"
  }
 },
 "nbformat": 4,
 "nbformat_minor": 2
}
