{
 "cells": [
  {
   "cell_type": "markdown",
   "metadata": {},
   "source": [
    "# Functions"
   ]
  },
  {
   "cell_type": "code",
   "execution_count": 1,
   "metadata": {},
   "outputs": [],
   "source": [
    "import pandas as pd\n",
    "import numpy as np\n",
    "import matplotlib.pyplot as plt\n",
    "import seaborn as sns"
   ]
  },
  {
   "cell_type": "code",
   "execution_count": 2,
   "metadata": {},
   "outputs": [],
   "source": [
    "def mapping_Ids1(df1, df2, col1, col2):\n",
    "    class style:\n",
    "        BOLD = '\\033[1m'\n",
    "        END = '\\033[0m'\n",
    "    common_Ids_Primary_to_Seconday = list(set(df1[col1].tolist()).intersection(df2[col2].tolist()))\n",
    "    Ids_len = [len(set(df1[col1])),len(set(df2[col2].tolist())),len(common_Ids_Primary_to_Seconday)]\n",
    "    primary = get_df_name(df1) + '  Ids'\n",
    "    secondary =  get_df_name(df2) + ' Ids'\n",
    "    Result = primary + '  mapped to ' + secondary\n",
    "    Id_Status = pd.DataFrame(data=Ids_len,index=[primary,secondary,Result])    \n",
    "    print('*'*126)\n",
    "    print(style.BOLD + 'Id Mapping Status' + style.END)\n",
    "    print(Id_Status)\n",
    "    print(style.BOLD + 'Mapping result - {}%'.format(round((len(common_Ids_Primary_to_Seconday)/len(set(df1[col1])))*100,2)) + style.END)\n",
    "    print('*'*126)\n",
    "\n",
    "\n",
    "def get_df_name(df):\n",
    "    return [x for x in globals() if globals()[x] is df][0]"
   ]
  },
  {
   "cell_type": "code",
   "execution_count": 3,
   "metadata": {},
   "outputs": [],
   "source": [
    "def bar_graph_numeric_col(df,col,xlabel,ylabel):\n",
    "    data = pd.DataFrame(pd.qcut(df[col],20,duplicates='drop').value_counts())\n",
    "    order = data.index.tolist()\n",
    "    order.sort()\n",
    "\n",
    "\n",
    "    ax = sns.barplot(x=data.index,y=col,data=data,palette='Blues_d',order=order)\n",
    "    for p in ax.patches:\n",
    "        height = round(p.get_height()/data[col].sum(),4)*100\n",
    "        ax.text(p.get_x() + p.get_width()/2, p.get_height() + 0.5,'{0:.0%}'.format(height/100),ha='center')\n",
    "    plt.xlabel(xlabel)\n",
    "    plt.ylabel(ylabel)\n",
    "    plt.xticks(rotation=45)\n",
    "    plt.title('No of Visits by users \\n Base :: {}'.format(data[col].sum()))\n",
    "    plt.show()\n"
   ]
  },
  {
   "cell_type": "code",
   "execution_count": null,
   "metadata": {},
   "outputs": [],
   "source": []
  }
 ],
 "metadata": {
  "kernelspec": {
   "display_name": "Python 3",
   "language": "python",
   "name": "python3"
  },
  "language_info": {
   "codemirror_mode": {
    "name": "ipython",
    "version": 3
   },
   "file_extension": ".py",
   "mimetype": "text/x-python",
   "name": "python",
   "nbconvert_exporter": "python",
   "pygments_lexer": "ipython3",
   "version": "3.7.0"
  }
 },
 "nbformat": 4,
 "nbformat_minor": 2
}
