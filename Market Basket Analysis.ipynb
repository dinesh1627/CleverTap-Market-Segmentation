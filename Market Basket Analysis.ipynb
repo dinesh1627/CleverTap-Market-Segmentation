{
 "cells": [
  {
   "cell_type": "code",
   "execution_count": 1,
   "metadata": {
    "scrolled": true
   },
   "outputs": [
    {
     "data": {
      "text/plain": [
       "'C:\\\\Users\\\\BINGO\\\\Downloads\\\\ApplicationFiles\\\\spark-2.4.3-bin-hadoop2.7'"
      ]
     },
     "execution_count": 1,
     "metadata": {},
     "output_type": "execute_result"
    }
   ],
   "source": [
    "import os\n",
    "os.environ['SPARK_HOME']"
   ]
  },
  {
   "cell_type": "code",
   "execution_count": 4,
   "metadata": {
    "collapsed": true
   },
   "outputs": [
    {
     "ename": "ValueError",
     "evalue": "Cannot run multiple SparkContexts at once; existing SparkContext(app=PythonSpark, master=local[*]) created by getOrCreate at <ipython-input-3-3fe964d67181>:9 ",
     "output_type": "error",
     "traceback": [
      "\u001b[1;31m---------------------------------------------------------------------------\u001b[0m",
      "\u001b[1;31mValueError\u001b[0m                                Traceback (most recent call last)",
      "\u001b[1;32m<ipython-input-4-aba68f6a3bf8>\u001b[0m in \u001b[0;36m<module>\u001b[1;34m\u001b[0m\n\u001b[0;32m      4\u001b[0m \u001b[1;32mexcept\u001b[0m\u001b[1;33m:\u001b[0m\u001b[1;33m\u001b[0m\u001b[1;33m\u001b[0m\u001b[0m\n\u001b[0;32m      5\u001b[0m     \u001b[1;32mpass\u001b[0m\u001b[1;33m\u001b[0m\u001b[1;33m\u001b[0m\u001b[0m\n\u001b[1;32m----> 6\u001b[1;33m \u001b[0msc\u001b[0m \u001b[1;33m=\u001b[0m \u001b[0mpyspark\u001b[0m\u001b[1;33m.\u001b[0m\u001b[0mSparkContext\u001b[0m\u001b[1;33m(\u001b[0m\u001b[1;33m)\u001b[0m\u001b[1;33m\u001b[0m\u001b[1;33m\u001b[0m\u001b[0m\n\u001b[0m",
      "\u001b[1;32m~\\Anaconda3\\lib\\site-packages\\pyspark\\context.py\u001b[0m in \u001b[0;36m__init__\u001b[1;34m(self, master, appName, sparkHome, pyFiles, environment, batchSize, serializer, conf, gateway, jsc, profiler_cls)\u001b[0m\n\u001b[0;32m    131\u001b[0m                     \" note this option will be removed in Spark 3.0\")\n\u001b[0;32m    132\u001b[0m \u001b[1;33m\u001b[0m\u001b[0m\n\u001b[1;32m--> 133\u001b[1;33m         \u001b[0mSparkContext\u001b[0m\u001b[1;33m.\u001b[0m\u001b[0m_ensure_initialized\u001b[0m\u001b[1;33m(\u001b[0m\u001b[0mself\u001b[0m\u001b[1;33m,\u001b[0m \u001b[0mgateway\u001b[0m\u001b[1;33m=\u001b[0m\u001b[0mgateway\u001b[0m\u001b[1;33m,\u001b[0m \u001b[0mconf\u001b[0m\u001b[1;33m=\u001b[0m\u001b[0mconf\u001b[0m\u001b[1;33m)\u001b[0m\u001b[1;33m\u001b[0m\u001b[1;33m\u001b[0m\u001b[0m\n\u001b[0m\u001b[0;32m    134\u001b[0m         \u001b[1;32mtry\u001b[0m\u001b[1;33m:\u001b[0m\u001b[1;33m\u001b[0m\u001b[1;33m\u001b[0m\u001b[0m\n\u001b[0;32m    135\u001b[0m             self._do_init(master, appName, sparkHome, pyFiles, environment, batchSize, serializer,\n",
      "\u001b[1;32m~\\Anaconda3\\lib\\site-packages\\pyspark\\context.py\u001b[0m in \u001b[0;36m_ensure_initialized\u001b[1;34m(cls, instance, gateway, conf)\u001b[0m\n\u001b[0;32m    330\u001b[0m                         \u001b[1;34m\" created by %s at %s:%s \"\u001b[0m\u001b[1;33m\u001b[0m\u001b[1;33m\u001b[0m\u001b[0m\n\u001b[0;32m    331\u001b[0m                         % (currentAppName, currentMaster,\n\u001b[1;32m--> 332\u001b[1;33m                             callsite.function, callsite.file, callsite.linenum))\n\u001b[0m\u001b[0;32m    333\u001b[0m                 \u001b[1;32melse\u001b[0m\u001b[1;33m:\u001b[0m\u001b[1;33m\u001b[0m\u001b[1;33m\u001b[0m\u001b[0m\n\u001b[0;32m    334\u001b[0m                     \u001b[0mSparkContext\u001b[0m\u001b[1;33m.\u001b[0m\u001b[0m_active_spark_context\u001b[0m \u001b[1;33m=\u001b[0m \u001b[0minstance\u001b[0m\u001b[1;33m\u001b[0m\u001b[1;33m\u001b[0m\u001b[0m\n",
      "\u001b[1;31mValueError\u001b[0m: Cannot run multiple SparkContexts at once; existing SparkContext(app=PythonSpark, master=local[*]) created by getOrCreate at <ipython-input-3-3fe964d67181>:9 "
     ]
    }
   ],
   "source": [
    "import pyspark\n",
    "try:\n",
    "    sc.stop()\n",
    "except:\n",
    "    pass\n",
    "sc = pyspark.SparkContext()"
   ]
  },
  {
   "cell_type": "code",
   "execution_count": 2,
   "metadata": {
    "collapsed": true
   },
   "outputs": [
    {
     "ename": "NameError",
     "evalue": "name 'sc' is not defined",
     "output_type": "error",
     "traceback": [
      "\u001b[1;31m---------------------------------------------------------------------------\u001b[0m",
      "\u001b[1;31mNameError\u001b[0m                                 Traceback (most recent call last)",
      "\u001b[1;32m<ipython-input-2-098248ebc366>\u001b[0m in \u001b[0;36m<module>\u001b[1;34m\u001b[0m\n\u001b[0;32m      1\u001b[0m \u001b[1;32mfrom\u001b[0m \u001b[0mpyspark\u001b[0m\u001b[1;33m.\u001b[0m\u001b[0msql\u001b[0m \u001b[1;32mimport\u001b[0m \u001b[0mSQLContext\u001b[0m\u001b[1;33m\u001b[0m\u001b[1;33m\u001b[0m\u001b[0m\n\u001b[1;32m----> 2\u001b[1;33m \u001b[0msqlContext\u001b[0m \u001b[1;33m=\u001b[0m \u001b[0mSQLContext\u001b[0m\u001b[1;33m(\u001b[0m\u001b[0msc\u001b[0m\u001b[1;33m)\u001b[0m\u001b[1;33m\u001b[0m\u001b[1;33m\u001b[0m\u001b[0m\n\u001b[0m",
      "\u001b[1;31mNameError\u001b[0m: name 'sc' is not defined"
     ]
    }
   ],
   "source": [
    "from pyspark.sql import SQLContext\n",
    "sqlContext = SQLContext(sc)"
   ]
  },
  {
   "cell_type": "code",
   "execution_count": 2,
   "metadata": {},
   "outputs": [],
   "source": [
    "# Into spark version>2.0\n",
    "\n",
    "from pyspark.sql import SparkSession\n",
    "\n",
    "from pyspark.sql import SparkSession\n",
    "\n",
    "spark = SparkSession \\\n",
    "    .builder \\\n",
    "    .appName(\"PythonSpark\") \\\n",
    "    .getOrCreate()"
   ]
  },
  {
   "cell_type": "code",
   "execution_count": 3,
   "metadata": {},
   "outputs": [],
   "source": [
    "from pyspark.sql.functions import split"
   ]
  },
  {
   "cell_type": "code",
   "execution_count": 4,
   "metadata": {},
   "outputs": [],
   "source": [
    "df = spark.read.csv('../Capstone - 02/02_data/Data/VideoStarted.csv', header=True)"
   ]
  },
  {
   "cell_type": "code",
   "execution_count": 5,
   "metadata": {
    "scrolled": true
   },
   "outputs": [
    {
     "name": "stdout",
     "output_type": "stream",
     "text": [
      "+--------------------+--------+-------------+------+-----+-----------------+--------+-----------+-------+------+---+--------------------+\n",
      "|              UserId|    Date|Minute_Of_Day|Second|State|            Genre|Category|ProgramType|Country|Device| OS|             VideoId|\n",
      "+--------------------+--------+-------------+------+-----+-----------------+--------+-----------+-------+------+---+--------------------+\n",
      "|0280dfdd112732a3a...|20170106|            0|     8|   35|         Romance |    vod |     Movies|      1|     1|  2|36a27b379622f342e...|\n",
      "|435d41ae019cb8db7...|20170106|            0|    28|   35|           Anime |    vod |   TV Shows|      1|     1|  1|a4d9b88c7ed63d723...|\n",
      "|1faf0ce0b98e02e15...|20170106|            0|    36|   35|           Drama |    vod |   TV Shows|      1|     1|  1|806660cb47633263a...|\n",
      "|3ec691b9d2b5d53ef...|20170106|            0|    48|   35|           Drama |    vod |   TV Shows|      1|     2|  2|385114825a85d6878...|\n",
      "|ff230d487a7139b65...|20170106|            0|    56|   35|          Comedy |    vod |     Movies|      1|     1|  1|368a480ec0ae105ae...|\n",
      "|13d9f55e297d7d9c2...|20170106|            1|    24|   35|           Drama |    vod |   TV Shows|      1|     1|  2|8b6076b28243980a2...|\n",
      "|ca601ff304bf0c083...|20170106|            1|    40|   35|           Anime |    vod |   TV Shows|      1|     1|  1|21526ec273ad7b6d2...|\n",
      "|f717dc3f757dc18cc...|20170106|            1|    40|   35|  Martial Sports | linear |   Channels|      1|     1|  2|1a729c215f0c08cc9...|\n",
      "|f717dc3f757dc18cc...|20170106|            1|    40|   35|  Martial Sports | linear |   Channels|      1|     1|  2|1a729c215f0c08cc9...|\n",
      "|0d2717ba754737c78...|20170106|            1|    44|   35|           Drama |    vod |   TV Shows|      1|     1|  2|675548e120ccb0138...|\n",
      "|087c741c167a352d0...|20170106|            1|    48|   35|          Comedy |    vod |     Movies|      1|     1|  1|2e47c28c5a2f4ac65...|\n",
      "|9151ab2a901458f27...|20170106|            1|    56|    0|         Variety |    vod |   TV Shows|    255|     1|  1|8a4832b3b2806a239...|\n",
      "|66d4abf4f3b733c27...|20170106|            2|     0|   37|           Drama |    vod |   TV Shows|      1|     1|  1|806660cb47633263a...|\n",
      "|04c1e14fd54a06c0d...|20170106|            2|    12|   40|           Drama |    vod |   TV Shows|      1|     2|  2|806660cb47633263a...|\n",
      "|f717dc3f757dc18cc...|20170106|            2|    24|   35| Sports Magazine | linear |   Channels|      1|     1|  2|d5b0a8692cbbe447f...|\n",
      "|4a48b6f1527172357...|20170106|            2|    36|   35|           Drama | linear |   Channels|      1|     1|  1|e6ea7e407888ec088...|\n",
      "|9151ab2a901458f27...|20170106|            2|    44|    0|         Variety |    vod |   TV Shows|    255|     1|  1|8a4832b3b2806a239...|\n",
      "|0d164b3342b7c442b...|20170106|            2|    56|   35|          Action |    vod |   TV Shows|      1|     1|  1|afb85ac1bc0bb04bd...|\n",
      "|d474ce5957c78efaa...|20170106|            3|    24|   48|           Drama | linear |   Channels|      1|     1|  1|e6ea7e407888ec088...|\n",
      "|f717dc3f757dc18cc...|20170106|            3|    32|   35| Tennis / Squash | linear |   Channels|      1|     1|  2|2dd067e7a439ac5a4...|\n",
      "+--------------------+--------+-------------+------+-----+-----------------+--------+-----------+-------+------+---+--------------------+\n",
      "only showing top 20 rows\n",
      "\n"
     ]
    }
   ],
   "source": [
    "df.show()"
   ]
  },
  {
   "cell_type": "code",
   "execution_count": 6,
   "metadata": {},
   "outputs": [],
   "source": [
    "from pyspark.ml.fpm import FPGrowth"
   ]
  },
  {
   "cell_type": "code",
   "execution_count": 7,
   "metadata": {},
   "outputs": [],
   "source": [
    "from pyspark.sql.functions import collect_set, col, count"
   ]
  },
  {
   "cell_type": "code",
   "execution_count": 8,
   "metadata": {},
   "outputs": [],
   "source": [
    "baskets = df.groupBy('UserId').agg(collect_set('VideoId').alias('items'))"
   ]
  },
  {
   "cell_type": "code",
   "execution_count": 9,
   "metadata": {},
   "outputs": [
    {
     "data": {
      "text/plain": [
       "DataFrame[UserId: string, items: array<string>]"
      ]
     },
     "metadata": {},
     "output_type": "display_data"
    }
   ],
   "source": [
    "display(baskets)"
   ]
  },
  {
   "cell_type": "code",
   "execution_count": 12,
   "metadata": {},
   "outputs": [],
   "source": [
    "fpGrowth = FPGrowth(itemsCol=\"items\", minSupport=0.05, minConfidence=0.6)\n",
    "model = fpGrowth.fit(baskets)"
   ]
  },
  {
   "cell_type": "code",
   "execution_count": 13,
   "metadata": {},
   "outputs": [
    {
     "name": "stdout",
     "output_type": "stream",
     "text": [
      "+--------------------+-----+\n",
      "|               items| freq|\n",
      "+--------------------+-----+\n",
      "|[e6ea7e407888ec08...|26576|\n",
      "|[2dd067e7a439ac5a...|24887|\n",
      "|[dc9fe110cd1b581f...|19961|\n",
      "|[c1c28e3151b39245...|17449|\n",
      "|[5c0f1f6e255af1a4...|15302|\n",
      "|[ef2f8cc077424405...|12831|\n",
      "|[a4a773531e35757b...|12723|\n",
      "|[509bef28c5c57ce6...|12318|\n",
      "|[d5b0a8692cbbe447...|11785|\n",
      "|[d5b0a8692cbbe447...| 9603|\n",
      "|[c87aab5701afc419...|11694|\n",
      "|[c87aab5701afc419...|10075|\n",
      "|[1a729c215f0c08cc...|11563|\n",
      "|[1a729c215f0c08cc...| 9436|\n",
      "|[34c6ea89ebb5e6d0...|11428|\n",
      "|[87a2074b91f1131d...|10812|\n",
      "|[87a2074b91f1131d...| 8389|\n",
      "|[87a2074b91f1131d...| 8478|\n",
      "|[dbbc68e8507268a9...|10517|\n",
      "|[b55d4f515961cde1...|10120|\n",
      "+--------------------+-----+\n",
      "only showing top 20 rows\n",
      "\n"
     ]
    }
   ],
   "source": [
    "model.freqItemsets.show()"
   ]
  },
  {
   "cell_type": "code",
   "execution_count": 14,
   "metadata": {},
   "outputs": [
    {
     "name": "stdout",
     "output_type": "stream",
     "text": [
      "+--------------------+--------------------+------------------+------------------+\n",
      "|          antecedent|          consequent|        confidence|              lift|\n",
      "+--------------------+--------------------+------------------+------------------+\n",
      "|[2161c4b0fdb2ed80...|[c1c28e3151b39245...|0.9323045731020501| 8.820961595915911|\n",
      "|[87a2074b91f1131d...|[c87aab5701afc419...|0.7758971513133556|10.953924097979803|\n",
      "|[87a2074b91f1131d...|[c1c28e3151b39245...|0.7841287458379578| 7.419002065254511|\n",
      "|[87a2074b91f1131d...|[4ad71a25241dd615...|0.7767295597484277| 12.83609741817289|\n",
      "|[87a2074b91f1131d...|[2161c4b0fdb2ed80...|0.7931002589715132|13.158004326638933|\n",
      "|[1a729c215f0c08cc...|[2dd067e7a439ac5a...|0.8160511977860417| 5.413442375380359|\n",
      "|[d5b0a8692cbbe447...|[2dd067e7a439ac5a...|0.8148493848112007| 5.405469903428921|\n",
      "|[dbbc68e8507268a9...|[4ad71a25241dd615...|0.7902443662641437| 13.05944075672135|\n",
      "|[c87aab5701afc419...|[c1c28e3151b39245...|0.8615529331280999| 8.151547847379069|\n",
      "|[c87aab5701afc419...|[87a2074b91f1131d...|0.7173764323584745|10.953924097979803|\n",
      "|[c87aab5701afc419...|[2161c4b0fdb2ed80...|0.7591927484179921|12.595458588541009|\n",
      "|[c87aab5701afc419...|[2161c4b0fdb2ed80...|0.8215384615384616|13.629810996962037|\n",
      "|[2161c4b0fdb2ed80...|[c87aab5701afc419...| 0.957432041642568|13.516788784923591|\n",
      "|[2161c4b0fdb2ed80...|[c87aab5701afc419...|0.8921716410411014|12.595458588541007|\n",
      "|[2161c4b0fdb2ed80...|[c1c28e3151b39245...|0.8687569088533815| 8.219707969128965|\n",
      "|[2161c4b0fdb2ed80...|[87a2074b91f1131d...|0.8617224399557833|13.158004326638933|\n",
      "|[4ad71a25241dd615...|[dbbc68e8507268a9...|0.8319319319319319|13.059440756721349|\n",
      "|[4ad71a25241dd615...|[87a2074b91f1131d...|0.8406406406406406|12.836097418172889|\n",
      "+--------------------+--------------------+------------------+------------------+\n",
      "\n"
     ]
    }
   ],
   "source": [
    "model.associationRules.show()"
   ]
  },
  {
   "cell_type": "code",
   "execution_count": 15,
   "metadata": {},
   "outputs": [
    {
     "name": "stdout",
     "output_type": "stream",
     "text": [
      "+--------------------+--------------------+----------+\n",
      "|              UserId|               items|prediction|\n",
      "+--------------------+--------------------+----------+\n",
      "|000076c7bbdf7e456...|[a4a773531e35757b...|        []|\n",
      "|003d05f3200eaff09...|[4d749fc7dbd2cbde...|        []|\n",
      "|005d29990bbe44930...|[8d4e373315349192...|        []|\n",
      "|00a37ab634ca1fb83...|[a4a773531e35757b...|        []|\n",
      "|00be709161f239916...|[29145661d92ca9ba...|        []|\n",
      "|010be73e380f4ffe9...|[dc9fe110cd1b581f...|        []|\n",
      "|01465c7e5ec14a24b...|[e6ea7e407888ec08...|        []|\n",
      "|014f359a122f95ed3...|[31e769e598b19d66...|        []|\n",
      "|017f368ca50125d81...|[368a480ec0ae105a...|        []|\n",
      "|01a3a7e65d868751a...|[4ad71a25241dd615...|        []|\n",
      "|021c34fef2bee7103...|[e4e03407e6e4483e...|        []|\n",
      "|022a562e9e0a827e2...|[2f497a8e2c3bcef5...|        []|\n",
      "|02830f504230b7a58...|[7a195cbdeb2809b5...|        []|\n",
      "|02852c9dfba3717d8...|[3be9d3729cf2391d...|        []|\n",
      "|02d3fc6b4faa025ba...|[de5957022bd0659d...|        []|\n",
      "|02efa98670254e4eb...|[34c6ea89ebb5e6d0...|        []|\n",
      "|0307c669983fdf54f...|[49662966e24ea10e...|        []|\n",
      "|034e468bfacc50249...|[e4b4f87a9c9a94b8...|        []|\n",
      "|0383dd2f773867da6...|[dc9fe110cd1b581f...|        []|\n",
      "|03d3b71b521f80109...|[dc9fe110cd1b581f...|        []|\n",
      "+--------------------+--------------------+----------+\n",
      "only showing top 20 rows\n",
      "\n"
     ]
    }
   ],
   "source": [
    "model.transform(baskets).show()"
   ]
  },
  {
   "cell_type": "code",
   "execution_count": 16,
   "metadata": {},
   "outputs": [],
   "source": [
    "baskets_2 = df.groupBy('UserId').agg(collect_set('Genre').alias('items'))"
   ]
  },
  {
   "cell_type": "code",
   "execution_count": 17,
   "metadata": {
    "scrolled": true
   },
   "outputs": [
    {
     "name": "stdout",
     "output_type": "stream",
     "text": [
      "+--------------------------------+-----------------------------------------------------------+\n",
      "|UserId                          |items                                                      |\n",
      "+--------------------------------+-----------------------------------------------------------+\n",
      "|000076c7bbdf7e4568777134cc4bec56|[ TV Shows (General) ,  Reality Show ,  Drama ,  Romance ] |\n",
      "|003d05f3200eaff09865e9c4fbef90b8|[ Comedy ,  Anime ,  Drama ]                               |\n",
      "|005d29990bbe449305a0cd2007c70931|[ Other Sports (General) ,  Action ,  Sports Magazine ]    |\n",
      "|00a37ab634ca1fb8362df5634af4c3e3|[ TV Shows (General) ,  Romance ,  Drama ]                 |\n",
      "|00be709161f2399167eba816b2c05f88|[ Drama ]                                                  |\n",
      "|010be73e380f4ffe91fc0f4b1f38a382|[ Comedy ,  Music ,  Animation ]                           |\n",
      "|01465c7e5ec14a24b1fc3c2be429d1fc|[ Anime ,  Sports Magazine ,  Drama ]                      |\n",
      "|014f359a122f95ed3b87f059e77a4129|[ Comedy ,  Current Affairs / General ,  Drama ,  Romance ]|\n",
      "|017f368ca50125d8116847a8160593c7|[ Comedy ,  Drama ]                                        |\n",
      "|01a3a7e65d868751a6c7ed77dcb9ecf4|[ Comedy ,  Drama ,  Romance ]                             |\n",
      "|021c34fef2bee71032a769ae68a1434a|[ Drama ]                                                  |\n",
      "|022a562e9e0a827e23e3b1ae3254b36a|[ TV Shows (General) ,  Action ,  Anime ,  Drama ]         |\n",
      "|02830f504230b7a584b10959ab574497|[ Drama ]                                                  |\n",
      "|02852c9dfba3717d8e0ce205add4405d|[ Action ,  Drama ]                                        |\n",
      "|02d3fc6b4faa025ba1e86356e7e09e56|[ Comedy ,  Anime ,  Horror ,  Drama ]                     |\n",
      "|02efa98670254e4ebd0c53b15c8faa2f|[ Drama ]                                                  |\n",
      "|0307c669983fdf54fb646fd760b67d89|[ Drama ]                                                  |\n",
      "|034e468bfacc502498c227646bebc65c|[ Anime ,  Animation ,  Drama ]                            |\n",
      "|0383dd2f773867da6969a7c563951392|[ Drama ]                                                  |\n",
      "|03d3b71b521f801090bb1bd5c785ec5f|[ Reality Show ,  Drama ,  Romance ]                       |\n",
      "+--------------------------------+-----------------------------------------------------------+\n",
      "only showing top 20 rows\n",
      "\n"
     ]
    }
   ],
   "source": [
    "baskets_2.show(truncate=False)"
   ]
  },
  {
   "cell_type": "code",
   "execution_count": 67,
   "metadata": {},
   "outputs": [],
   "source": [
    "fpGrowth = FPGrowth(itemsCol=\"items\", minSupport=0.02, minConfidence=0.5)\n",
    "model2 = fpGrowth.fit(baskets_2)"
   ]
  },
  {
   "cell_type": "code",
   "execution_count": 68,
   "metadata": {
    "scrolled": true
   },
   "outputs": [],
   "source": [
    "genre_freqitem = model2.freqItemsets"
   ]
  },
  {
   "cell_type": "code",
   "execution_count": 69,
   "metadata": {},
   "outputs": [],
   "source": [
    "genre_freqitem_pd = genre_freqitem.toPandas()"
   ]
  },
  {
   "cell_type": "code",
   "execution_count": 70,
   "metadata": {
    "scrolled": true
   },
   "outputs": [],
   "source": [
    "genre_freqitem_pd.to_excel('../Capstone - 02/02_data/Data/genre_freqitem.xlsx')"
   ]
  },
  {
   "cell_type": "code",
   "execution_count": 71,
   "metadata": {},
   "outputs": [],
   "source": [
    "genre_rules = model2.associationRules"
   ]
  },
  {
   "cell_type": "code",
   "execution_count": 72,
   "metadata": {},
   "outputs": [],
   "source": [
    "genre_rules_pd = genre_rules.toPandas()"
   ]
  },
  {
   "cell_type": "code",
   "execution_count": 73,
   "metadata": {},
   "outputs": [],
   "source": [
    "genre_rules_pd.to_excel('../Capstone - 02/02_data/Data/genre_rules.xlsx')"
   ]
  },
  {
   "cell_type": "code",
   "execution_count": 74,
   "metadata": {},
   "outputs": [],
   "source": [
    "genre_predict = model2.transform(baskets_2)"
   ]
  },
  {
   "cell_type": "code",
   "execution_count": 75,
   "metadata": {},
   "outputs": [],
   "source": [
    "genre_predict_pd = genre_predict.toPandas()"
   ]
  },
  {
   "cell_type": "code",
   "execution_count": 76,
   "metadata": {},
   "outputs": [],
   "source": [
    "genre_predict_pd.to_excel('../Capstone - 02/02_data/Data/genre_predict.xlsx')"
   ]
  },
  {
   "cell_type": "code",
   "execution_count": 13,
   "metadata": {},
   "outputs": [],
   "source": [
    "df = spark.read.csv('../Capstone - 02/02_data/Data/Cluster_2_VideoStarted.csv', header=True)"
   ]
  },
  {
   "cell_type": "code",
   "execution_count": 14,
   "metadata": {},
   "outputs": [
    {
     "name": "stdout",
     "output_type": "stream",
     "text": [
      "+---+--------------------+----------+-------------+------+-----+--------------------+--------+-----------+-------+------+---+--------------------+----+--------------------+\n",
      "|_c0|              UserId|      Date|Minute_Of_Day|Second|State|               Genre|Category|ProgramType|Country|Device| OS|             VideoId|Week|           New_Genre|\n",
      "+---+--------------------+----------+-------------+------+-----+--------------------+--------+-----------+-------+------+---+--------------------+----+--------------------+\n",
      "|  9|0d2717ba754737c78...|2017-01-06|            1|    44|   35|              Drama |    vod |   TV Shows|      1|     1|  2|675548e120ccb0138...|   1|              Drama |\n",
      "| 10|087c741c167a352d0...|2017-01-06|            1|    48|   35|             Comedy |    vod |     Movies|      1|     1|  1|2e47c28c5a2f4ac65...|   1|             Comedy |\n",
      "| 15|4a48b6f1527172357...|2017-01-06|            2|    36|   35|              Drama | linear |   Channels|      1|     1|  1|e6ea7e407888ec088...|   1|              Drama |\n",
      "| 17|0d164b3342b7c442b...|2017-01-06|            2|    56|   35|             Action |    vod |   TV Shows|      1|     1|  1|afb85ac1bc0bb04bd...|   1|             Action |\n",
      "| 22|4a48b6f1527172357...|2017-01-06|            3|    56|   35| TV Shows (General) | linear |   Channels|      1|     1|  1|dad5c43748b229667...|   1| TV Shows (General) |\n",
      "| 25|d4984df3c20408ce6...|2017-01-06|            4|    20|   35|              Drama | linear |   Channels|      1|     1|  2|ef2f8cc077424405c...|   1|              Drama |\n",
      "| 26|d4984df3c20408ce6...|2017-01-06|            4|    20|   35|              Drama | linear |   Channels|      1|     1|  2|ef2f8cc077424405c...|   1|              Drama |\n",
      "| 27|6d51418c537c27943...|2017-01-06|            4|    36|   37|              Drama |    vod |   TV Shows|      1|     1|  2|45a7e818a2c357a9b...|   1|              Drama |\n",
      "| 31|b0f1608f6f08dc67d...|2017-01-06|            5|     8|   35|             Horror |    vod |     Movies|      1|     1|  1|c0883669ac53bc724...|   1|             Horror |\n",
      "| 32|0d164b3342b7c442b...|2017-01-06|            5|    20|   35|             Action |    vod |   TV Shows|      1|     1|  1|d0c64e942ff427750...|   1|             Action |\n",
      "| 35|1f9be9226d4393fff...|2017-01-06|            5|    56|   36| Other Sports (Ge...| linear |   Channels|      1|     1|  1|aa6dab080812d9e8b...|   1| Other Sports (Ge...|\n",
      "| 40|087c741c167a352d0...|2017-01-06|            6|    28|   35|             Comedy |    vod |     Movies|      1|     1|  1|2e47c28c5a2f4ac65...|   1|             Comedy |\n",
      "| 41|1f9be9226d4393fff...|2017-01-06|            6|    36|   36| TV Shows (General) | linear |   Channels|      1|     1|  1|a4a773531e35757ba...|   1| TV Shows (General) |\n",
      "| 47|1f9be9226d4393fff...|2017-01-06|            7|    28|   36|    Tennis / Squash | linear |   Channels|      1|     1|  1|2dd067e7a439ac5a4...|   1|    Tennis / Squash |\n",
      "| 48|057212548aff678c0...|2017-01-06|            7|    44|   43|              Drama |    vod |   TV Shows|      1|     1|  1|f3ecc88c6e53a990a...|   1|              Drama |\n",
      "| 51|1f9be9226d4393fff...|2017-01-06|            8|    20|   36| TV Shows (General) | linear |   Channels|      1|     1|  1|a4a773531e35757ba...|   1| TV Shows (General) |\n",
      "| 58|057212548aff678c0...|2017-01-06|            9|    44|   43|              Drama |    vod |   TV Shows|      1|     1|  1|f3ecc88c6e53a990a...|   1|              Drama |\n",
      "| 60|16455c25d7a8af408...|2017-01-06|           10|    16|   35|              Anime |    vod |   TV Shows|      1|     1|  1|99e672aa585e8af17...|   1|              Anime |\n",
      "| 66|b0f1608f6f08dc67d...|2017-01-06|           12|    40|   35|             Horror |    vod |   TV Shows|      1|     1|  1|dfaf22b3245593f37...|   1|             Horror |\n",
      "| 67|af923737b102c2a45...|2017-01-06|           12|    52|   45|    Tennis / Squash | linear |   Channels|      1|     1|  1|2dd067e7a439ac5a4...|   1|    Tennis / Squash |\n",
      "+---+--------------------+----------+-------------+------+-----+--------------------+--------+-----------+-------+------+---+--------------------+----+--------------------+\n",
      "only showing top 20 rows\n",
      "\n"
     ]
    }
   ],
   "source": [
    "df.show()"
   ]
  },
  {
   "cell_type": "code",
   "execution_count": 15,
   "metadata": {
    "scrolled": true
   },
   "outputs": [
    {
     "name": "stdout",
     "output_type": "stream",
     "text": [
      "root\n",
      " |-- _c0: string (nullable = true)\n",
      " |-- UserId: string (nullable = true)\n",
      " |-- Date: string (nullable = true)\n",
      " |-- Minute_Of_Day: string (nullable = true)\n",
      " |-- Second: string (nullable = true)\n",
      " |-- State: string (nullable = true)\n",
      " |-- Genre: string (nullable = true)\n",
      " |-- Category: string (nullable = true)\n",
      " |-- ProgramType: string (nullable = true)\n",
      " |-- Country: string (nullable = true)\n",
      " |-- Device: string (nullable = true)\n",
      " |-- OS: string (nullable = true)\n",
      " |-- VideoId: string (nullable = true)\n",
      " |-- Week: string (nullable = true)\n",
      " |-- New_Genre: string (nullable = true)\n",
      "\n"
     ]
    }
   ],
   "source": [
    "df.printSchema()"
   ]
  },
  {
   "cell_type": "code",
   "execution_count": 16,
   "metadata": {
    "scrolled": true
   },
   "outputs": [],
   "source": [
    "baskets_3 = df.groupBy('UserId').agg(collect_set('Genre').alias('items'))"
   ]
  },
  {
   "cell_type": "code",
   "execution_count": 17,
   "metadata": {},
   "outputs": [],
   "source": [
    "fpGrowth = FPGrowth(itemsCol=\"items\", minSupport=0.1, minConfidence=0.5)\n",
    "model3 = fpGrowth.fit(baskets_3)"
   ]
  },
  {
   "cell_type": "code",
   "execution_count": 18,
   "metadata": {
    "scrolled": true
   },
   "outputs": [
    {
     "name": "stdout",
     "output_type": "stream",
     "text": [
      "+--------------------+-----+\n",
      "|               items| freq|\n",
      "+--------------------+-----+\n",
      "|           [ Drama ]|16094|\n",
      "|         [ Romance ]| 7147|\n",
      "|[ Romance ,  Drama ]| 6876|\n",
      "|          [ Comedy ]| 7072|\n",
      "|[ Comedy ,  Roman...| 3461|\n",
      "|[ Comedy ,  Roman...| 3350|\n",
      "| [ Comedy ,  Drama ]| 6453|\n",
      "|          [ Action ]| 6841|\n",
      "|[ Action ,  Comedy ]| 3273|\n",
      "|[ Action ,  Comed...| 2925|\n",
      "|[ Action ,  Roman...| 2153|\n",
      "|[ Action ,  Roman...| 2032|\n",
      "| [ Action ,  Drama ]| 5732|\n",
      "| [ Sports Magazine ]| 6306|\n",
      "|[ Sports Magazine...| 2328|\n",
      "|[ Sports Magazine...| 1979|\n",
      "|[ Sports Magazine...| 3475|\n",
      "|[ Sports Magazine...| 2825|\n",
      "|[ Sports Magazine...| 5039|\n",
      "|           [ Anime ]| 6132|\n",
      "+--------------------+-----+\n",
      "only showing top 20 rows\n",
      "\n"
     ]
    }
   ],
   "source": [
    "model3.freqItemsets.show()"
   ]
  },
  {
   "cell_type": "code",
   "execution_count": 22,
   "metadata": {},
   "outputs": [],
   "source": [
    "cluster3_freqitems = model3.freqItemsets"
   ]
  },
  {
   "cell_type": "code",
   "execution_count": 23,
   "metadata": {},
   "outputs": [],
   "source": [
    "cluster3_freqitems_pd = cluster3_freqitems.toPandas()"
   ]
  },
  {
   "cell_type": "code",
   "execution_count": 24,
   "metadata": {},
   "outputs": [],
   "source": [
    "cluster3_freqitems_pd.to_excel('../Capstone - 02/02_data/Data/cluster3_freqitems.xlsx')"
   ]
  },
  {
   "cell_type": "code",
   "execution_count": 19,
   "metadata": {
    "collapsed": true
   },
   "outputs": [
    {
     "name": "stdout",
     "output_type": "stream",
     "text": [
      "+--------------------+--------------------+------------------+------------------+\n",
      "|          antecedent|          consequent|        confidence|              lift|\n",
      "+--------------------+--------------------+------------------+------------------+\n",
      "|[ Horror ,  Comedy ]|           [ Drama ]|0.9049352750809061|   1.0520842507791|\n",
      "|[ TV Shows (Gener...|           [ Drama ]|0.9544059622972381| 1.109599227074911|\n",
      "|    [ Reality Show ]|[ TV Shows (Gener...|0.5004914004914005|1.7871554569837014|\n",
      "|    [ Reality Show ]|           [ Drama ]|0.9206388206388206|1.0703413056401747|\n",
      "|[ Motor Sports , ...|          [ Action ]|0.5425361155698234|1.4839048762501046|\n",
      "|[ Motor Sports , ...|           [ Drama ]|0.7638156386149966|0.8880175477895613|\n",
      "|[ Motor Sports , ...|[ Other Sports (G...|0.5668424673240082| 2.486797047151118|\n",
      "| [ Comedy ,  Drama ]|         [ Romance ]|0.5191383852471718| 1.359115478712723|\n",
      "|[ Football ,  Spo...|           [ Drama ]|0.7475614514241123|0.8691203130108466|\n",
      "|[ Football ,  Spo...|    [ Motor Sports ]|0.8415918845103394|2.9571879344737955|\n",
      "|         [ Variety ]|           [ Drama ]|0.9545667447306792| 1.109786153886898|\n",
      "|[ Other Sports (G...| [ Sports Magazine ]|0.7540445486518171| 2.237381470000658|\n",
      "|[ Other Sports (G...|          [ Action ]|0.5617819460726846|1.5365446561856457|\n",
      "|[ Other Sports (G...|    [ Motor Sports ]|0.6445486518171161|2.2648168683849876|\n",
      "|[ Other Sports (G...|           [ Drama ]|0.8189917936694021|0.9521657419751574|\n",
      "|        [ Thriller ]|           [ Drama ]|0.9010195412064571|1.0475317904507282|\n",
      "|[ TV Shows (Gener...|           [ Drama ]|0.9351585014409222|1.0872219908326763|\n",
      "|        [ Football ]| [ Sports Magazine ]|0.8673434856175973|2.5735591435760963|\n",
      "|        [ Football ]|    [ Motor Sports ]|0.8006768189509307| 2.813420461857439|\n",
      "|        [ Football ]|           [ Drama ]|0.7634517766497462|0.8875945192552132|\n",
      "+--------------------+--------------------+------------------+------------------+\n",
      "only showing top 20 rows\n",
      "\n"
     ]
    }
   ],
   "source": [
    "model3.associationRules.show()"
   ]
  },
  {
   "cell_type": "code",
   "execution_count": 25,
   "metadata": {},
   "outputs": [],
   "source": [
    "cluster3_rules = model3.associationRules"
   ]
  },
  {
   "cell_type": "code",
   "execution_count": 26,
   "metadata": {},
   "outputs": [],
   "source": [
    "cluster3_rules_pd = cluster3_rules.toPandas()"
   ]
  },
  {
   "cell_type": "code",
   "execution_count": 27,
   "metadata": {},
   "outputs": [],
   "source": [
    "cluster3_rules_pd.to_excel('../Capstone - 02/02_data/Data/cluster3_rules.xlsx')"
   ]
  },
  {
   "cell_type": "code",
   "execution_count": 21,
   "metadata": {
    "scrolled": true
   },
   "outputs": [
    {
     "name": "stdout",
     "output_type": "stream",
     "text": [
      "+--------------------+--------------------+--------------------+\n",
      "|              UserId|               items|          prediction|\n",
      "+--------------------+--------------------+--------------------+\n",
      "|1256193ae71f17972...|[ TV Shows (Gener...|                  []|\n",
      "|2cd29349b3876b308...|[ TV Shows (Gener...|          [ Comedy ]|\n",
      "|39509b3f512332529...|[ TV Shows (Gener...|[ Romance ,  Spor...|\n",
      "|5ec97e5f351154837...|[ TV Shows (Gener...|[ Romance ,  Spor...|\n",
      "|63e634307347361ee...|[ Other Sports (G...|[ Motor Sports , ...|\n",
      "|73b2e2fd495a9e5a0...|[ TV Shows (Gener...|                  []|\n",
      "|78f6d988cdefd4e36...|[ Comedy ,  Actio...|[ Motor Sports , ...|\n",
      "|8f1a03b4852dfb8d5...|[ Comedy ,  Reali...|[ TV Shows (Gener...|\n",
      "|9b44c8f7a16835887...|[ Reality Show , ...|[ TV Shows (Gener...|\n",
      "|a2db5be85570f5301...|[ TV Shows (Gener...|[ Comedy ,  Sport...|\n",
      "|a7b31324e48fafea2...|[ Other Sports (G...|[ Action ,  Drama...|\n",
      "|e85ec9d480acca1fa...|[ Comedy ,  Other...|[ Drama ,  Motor ...|\n",
      "|f1f57f0b3f113d65a...|[ Comedy ,  Other...|           [ Drama ]|\n",
      "|19fa6e24841b13004...|           [ Drama ]|                  []|\n",
      "|321fcf41bca5da6a3...|[ Reality Show , ...|[ TV Shows (Gener...|\n",
      "|6cd0abd70005b7bdf...|[ TV Shows (Gener...|[ Motor Sports , ...|\n",
      "|7f4706014c46d36a4...|[ Other Sports (G...| [ Action ,  Drama ]|\n",
      "|8df2b2d2e4a49f794...|[ TV Shows (Gener...|[ Action ,  Drama...|\n",
      "|a74d0b54f1588dfa6...|  [ Anime ,  Drama ]|                  []|\n",
      "|b4f002a772cbdf8c2...|[ Action ,  Anime...|[ Comedy ,  Motor...|\n",
      "+--------------------+--------------------+--------------------+\n",
      "only showing top 20 rows\n",
      "\n"
     ]
    }
   ],
   "source": [
    "model3.transform(baskets_3).show()"
   ]
  },
  {
   "cell_type": "code",
   "execution_count": 28,
   "metadata": {},
   "outputs": [],
   "source": [
    "cluster3_predict = model3.transform(baskets_3)"
   ]
  },
  {
   "cell_type": "code",
   "execution_count": 29,
   "metadata": {},
   "outputs": [],
   "source": [
    "cluster3_predict_pd = cluster3_predict.toPandas()"
   ]
  },
  {
   "cell_type": "code",
   "execution_count": 31,
   "metadata": {},
   "outputs": [],
   "source": [
    "cluster3_predict_pd.to_excel('../Capstone - 02/02_data/Data/cluster3_predict.xlsx')"
   ]
  }
 ],
 "metadata": {
  "kernelspec": {
   "display_name": "Python 3",
   "language": "python",
   "name": "python3"
  },
  "language_info": {
   "codemirror_mode": {
    "name": "ipython",
    "version": 3
   },
   "file_extension": ".py",
   "mimetype": "text/x-python",
   "name": "python",
   "nbconvert_exporter": "python",
   "pygments_lexer": "ipython3",
   "version": "3.7.0"
  }
 },
 "nbformat": 4,
 "nbformat_minor": 2
}
